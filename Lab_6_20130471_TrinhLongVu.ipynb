{
  "nbformat": 4,
  "nbformat_minor": 0,
  "metadata": {
    "colab": {
      "provenance": [],
      "include_colab_link": true
    },
    "kernelspec": {
      "name": "python3",
      "display_name": "Python 3"
    },
    "language_info": {
      "name": "python"
    }
  },
  "cells": [
    {
      "cell_type": "markdown",
      "metadata": {
        "id": "view-in-github",
        "colab_type": "text"
      },
      "source": [
        "<a href=\"https://colab.research.google.com/github/trinhvu1711/ML_Semester2_2023/blob/main/Lab_6_20130471_TrinhLongVu.ipynb\" target=\"_parent\"><img src=\"https://colab.research.google.com/assets/colab-badge.svg\" alt=\"Open In Colab\"/></a>"
      ]
    },
    {
      "cell_type": "markdown",
      "source": [
        "# This lab is to deal with classification task using **Random Forests** and **Naïve Bayes** algorithms with/without **Feature Selection**. \n",
        "\n",
        "*   **Deadline: 23:59, 25/03/2023**\n",
        "\n"
      ],
      "metadata": {
        "id": "LMzehe0sy5wr"
      }
    },
    {
      "cell_type": "markdown",
      "source": [
        "# Import libraries"
      ],
      "metadata": {
        "id": "H4nJmxp9zGX4"
      }
    },
    {
      "cell_type": "code",
      "execution_count": 72,
      "metadata": {
        "id": "DoVWQ8AEyc-C"
      },
      "outputs": [],
      "source": [
        "# code\n",
        "import numpy as np\n",
        "import pandas as pd\n",
        "import matplotlib.pyplot as plt\n",
        "import seaborn as sns\n",
        "from sklearn import datasets\n",
        "from sklearn.linear_model import LogisticRegression\n",
        "from sklearn.model_selection import train_test_split\n",
        "from sklearn.impute import SimpleImputer\n",
        "from sklearn import preprocessing\n",
        "from sklearn.metrics import confusion_matrix \n",
        "from sklearn.metrics import accuracy_score \n",
        "from sklearn.metrics import precision_score \n",
        "from sklearn.metrics import recall_score \n",
        "from sklearn.metrics import f1_score\n",
        "#Import svm model\n",
        "from sklearn import svm\n",
        "from sklearn.ensemble import RandomForestClassifier\n",
        "# GaussianNB\n",
        "from sklearn.naive_bayes import GaussianNB\n",
        "from prettytable import PrettyTable\n",
        "from sklearn.preprocessing import StandardScaler\n",
        "from sklearn.compose import ColumnTransformer\n",
        "from sklearn.neighbors import KNeighborsClassifier\n",
        "from sklearn.tree import DecisionTreeClassifier\n",
        "from sklearn.ensemble import RandomForestClassifier\n",
        "from sklearn.impute import SimpleImputer\n"
      ]
    },
    {
      "cell_type": "code",
      "source": [
        "data4 = datasets.load_digits()\n",
        "cols = data4['feature_names']\n",
        "X = data4['data']\n",
        "y = data4['target']\n",
        "data = pd.DataFrame(X)\n",
        "# print(data)\n",
        "data.columns = cols\n",
        "data['target'] = y\n",
        "print(data)\n",
        "# X, y without Feature Selection.\n",
        "X_train, X_test, y_train, y_test = train_test_split(X, y, test_size = 0.3, random_state = 10)"
      ],
      "metadata": {
        "id": "1tvoJ8s1p9N4"
      },
      "execution_count": null,
      "outputs": []
    },
    {
      "cell_type": "markdown",
      "source": [
        "Random Forest Classifier"
      ],
      "metadata": {
        "id": "4hSsKofOyiQd"
      }
    },
    {
      "cell_type": "code",
      "source": [
        "data4"
      ],
      "metadata": {
        "id": "oKcqxaItyk6h"
      },
      "execution_count": null,
      "outputs": []
    },
    {
      "cell_type": "markdown",
      "source": [
        "#Task 1. \n",
        "Task 1. Compare the performance of selected classification algorithms including **Random forest**, **NaiveBayes**, and **SVM** with **mnist** dataset based on **accuracy, precision, recall, f1** measures according to **without using selection feature** and **using selection feature**.\n",
        "\n"
      ],
      "metadata": {
        "id": "kNv07ARGzOUm"
      }
    },
    {
      "cell_type": "markdown",
      "source": [
        "Random Forest Classifier"
      ],
      "metadata": {
        "id": "rcJTpbBLgPtO"
      }
    },
    {
      "cell_type": "code",
      "source": [
        "# code\n",
        "#Create a Random Forest Classifier\n",
        "rfc=RandomForestClassifier(n_estimators=100)\n",
        "#Train the model using the training sets\n",
        "rfc.fit(X_train,y_train)\n",
        "y_pred = rfc.predict(X_test)\n",
        "rfcac = round(accuracy_score(y_test, y_pred), 4)\n",
        "rfcpc = round(precision_score(y_test, y_pred, average='micro'), 4)\n",
        "rfcrc= round(recall_score(y_test, y_pred, average='micro'), 4)\n",
        "rfcf= round(f1_score(y_test, y_pred, average='micro'), 4)\n",
        "print (\"Accuracy : \", rfcac) \n",
        "print (\"Precision : \", rfcpc) \n",
        "print (\"Recall score : \", rfcrc) \n",
        "print (\"F1 score : \", rfcf)"
      ],
      "metadata": {
        "id": "sOsg77IBzEyo"
      },
      "execution_count": null,
      "outputs": []
    },
    {
      "cell_type": "markdown",
      "source": [
        "GaussianNB"
      ],
      "metadata": {
        "id": "0iIVDS9ngSj2"
      }
    },
    {
      "cell_type": "code",
      "source": [
        "\n",
        "model = GaussianNB()\n",
        "model.fit(X_train, y_train)\n",
        "y_pred = model.predict(X_test)\n",
        "gnbac = round(accuracy_score(y_test, y_pred), 4)\n",
        "gnbpc = round(precision_score(y_test, y_pred, average='micro'), 4)\n",
        "gnbrc= round(recall_score(y_test, y_pred, average='micro'), 4)\n",
        "gnbf= round(f1_score(y_test, y_pred, average='micro'), 4)\n",
        "print (\"Accuracy : \", gnbac) \n",
        "print (\"Precision : \", gnbpc) \n",
        "print (\"Recall score : \", gnbrc) \n",
        "print (\"F1 score : \", gnbf)"
      ],
      "metadata": {
        "colab": {
          "base_uri": "https://localhost:8080/"
        },
        "id": "wpCmTCwgz3Ea",
        "outputId": "01622ac0-9ac0-47f1-f03f-81eabdabf83b"
      },
      "execution_count": null,
      "outputs": [
        {
          "output_type": "stream",
          "name": "stdout",
          "text": [
            "Accuracy :  0.813\n",
            "Precision :  0.813\n",
            "Recall score :  0.813\n",
            "F1 score :  0.813\n"
          ]
        }
      ]
    },
    {
      "cell_type": "markdown",
      "source": [
        "svm Classifier"
      ],
      "metadata": {
        "id": "Or-_JulAgTss"
      }
    },
    {
      "cell_type": "code",
      "source": [
        "#Create a svm Classifier\n",
        "svm = svm.SVC(kernel='rbf') # rbf Kernel\n",
        "#Train the model using the training sets\n",
        "svm.fit(X_train, y_train)\n",
        "#Predict the response for test dataset\n",
        "y_pred = svm.predict(X_test)\n",
        "svmac = round(accuracy_score(y_test, y_pred), 2)\n",
        "svmpc = round(precision_score(y_test, y_pred, average='micro'), 2)\n",
        "svmrc= round(recall_score(y_test, y_pred, average='micro'), 2)\n",
        "svmf= round(f1_score(y_test, y_pred, average='micro'), 2)\n",
        "print (\"Accuracy : \", svmac) \n",
        "print (\"Precision : \", svmpc) \n",
        "print (\"Recall score : \", svmrc) \n",
        "print (\"F1 score : \", svmf)"
      ],
      "metadata": {
        "colab": {
          "base_uri": "https://localhost:8080/"
        },
        "id": "zn6Xewbc0gm5",
        "outputId": "dbde2ca1-368d-45a2-d372-456cd8848db5"
      },
      "execution_count": null,
      "outputs": [
        {
          "output_type": "stream",
          "name": "stdout",
          "text": [
            "Accuracy :  0.98\n",
            "Precision :  0.98\n",
            "Recall score :  0.98\n",
            "F1 score :  0.98\n"
          ]
        }
      ]
    },
    {
      "cell_type": "code",
      "source": [
        "#Create a Random Forest Classifier\n",
        "clf=RandomForestClassifier(n_estimators=100)\n",
        "\n",
        "#Train the model using the training sets y_pred=clf.predict(X_test)\n",
        "clf.fit(X,y)\n",
        "\n"
      ],
      "metadata": {
        "id": "bsVxabNz1Gya",
        "colab": {
          "base_uri": "https://localhost:8080/",
          "height": 75
        },
        "outputId": "32eda267-dea7-48ba-b575-8165db6b4d65"
      },
      "execution_count": null,
      "outputs": [
        {
          "output_type": "execute_result",
          "data": {
            "text/plain": [
              "RandomForestClassifier()"
            ],
            "text/html": [
              "<style>#sk-container-id-3 {color: black;background-color: white;}#sk-container-id-3 pre{padding: 0;}#sk-container-id-3 div.sk-toggleable {background-color: white;}#sk-container-id-3 label.sk-toggleable__label {cursor: pointer;display: block;width: 100%;margin-bottom: 0;padding: 0.3em;box-sizing: border-box;text-align: center;}#sk-container-id-3 label.sk-toggleable__label-arrow:before {content: \"▸\";float: left;margin-right: 0.25em;color: #696969;}#sk-container-id-3 label.sk-toggleable__label-arrow:hover:before {color: black;}#sk-container-id-3 div.sk-estimator:hover label.sk-toggleable__label-arrow:before {color: black;}#sk-container-id-3 div.sk-toggleable__content {max-height: 0;max-width: 0;overflow: hidden;text-align: left;background-color: #f0f8ff;}#sk-container-id-3 div.sk-toggleable__content pre {margin: 0.2em;color: black;border-radius: 0.25em;background-color: #f0f8ff;}#sk-container-id-3 input.sk-toggleable__control:checked~div.sk-toggleable__content {max-height: 200px;max-width: 100%;overflow: auto;}#sk-container-id-3 input.sk-toggleable__control:checked~label.sk-toggleable__label-arrow:before {content: \"▾\";}#sk-container-id-3 div.sk-estimator input.sk-toggleable__control:checked~label.sk-toggleable__label {background-color: #d4ebff;}#sk-container-id-3 div.sk-label input.sk-toggleable__control:checked~label.sk-toggleable__label {background-color: #d4ebff;}#sk-container-id-3 input.sk-hidden--visually {border: 0;clip: rect(1px 1px 1px 1px);clip: rect(1px, 1px, 1px, 1px);height: 1px;margin: -1px;overflow: hidden;padding: 0;position: absolute;width: 1px;}#sk-container-id-3 div.sk-estimator {font-family: monospace;background-color: #f0f8ff;border: 1px dotted black;border-radius: 0.25em;box-sizing: border-box;margin-bottom: 0.5em;}#sk-container-id-3 div.sk-estimator:hover {background-color: #d4ebff;}#sk-container-id-3 div.sk-parallel-item::after {content: \"\";width: 100%;border-bottom: 1px solid gray;flex-grow: 1;}#sk-container-id-3 div.sk-label:hover label.sk-toggleable__label {background-color: #d4ebff;}#sk-container-id-3 div.sk-serial::before {content: \"\";position: absolute;border-left: 1px solid gray;box-sizing: border-box;top: 0;bottom: 0;left: 50%;z-index: 0;}#sk-container-id-3 div.sk-serial {display: flex;flex-direction: column;align-items: center;background-color: white;padding-right: 0.2em;padding-left: 0.2em;position: relative;}#sk-container-id-3 div.sk-item {position: relative;z-index: 1;}#sk-container-id-3 div.sk-parallel {display: flex;align-items: stretch;justify-content: center;background-color: white;position: relative;}#sk-container-id-3 div.sk-item::before, #sk-container-id-3 div.sk-parallel-item::before {content: \"\";position: absolute;border-left: 1px solid gray;box-sizing: border-box;top: 0;bottom: 0;left: 50%;z-index: -1;}#sk-container-id-3 div.sk-parallel-item {display: flex;flex-direction: column;z-index: 1;position: relative;background-color: white;}#sk-container-id-3 div.sk-parallel-item:first-child::after {align-self: flex-end;width: 50%;}#sk-container-id-3 div.sk-parallel-item:last-child::after {align-self: flex-start;width: 50%;}#sk-container-id-3 div.sk-parallel-item:only-child::after {width: 0;}#sk-container-id-3 div.sk-dashed-wrapped {border: 1px dashed gray;margin: 0 0.4em 0.5em 0.4em;box-sizing: border-box;padding-bottom: 0.4em;background-color: white;}#sk-container-id-3 div.sk-label label {font-family: monospace;font-weight: bold;display: inline-block;line-height: 1.2em;}#sk-container-id-3 div.sk-label-container {text-align: center;}#sk-container-id-3 div.sk-container {/* jupyter's `normalize.less` sets `[hidden] { display: none; }` but bootstrap.min.css set `[hidden] { display: none !important; }` so we also need the `!important` here to be able to override the default hidden behavior on the sphinx rendered scikit-learn.org. See: https://github.com/scikit-learn/scikit-learn/issues/21755 */display: inline-block !important;position: relative;}#sk-container-id-3 div.sk-text-repr-fallback {display: none;}</style><div id=\"sk-container-id-3\" class=\"sk-top-container\"><div class=\"sk-text-repr-fallback\"><pre>RandomForestClassifier()</pre><b>In a Jupyter environment, please rerun this cell to show the HTML representation or trust the notebook. <br />On GitHub, the HTML representation is unable to render, please try loading this page with nbviewer.org.</b></div><div class=\"sk-container\" hidden><div class=\"sk-item\"><div class=\"sk-estimator sk-toggleable\"><input class=\"sk-toggleable__control sk-hidden--visually\" id=\"sk-estimator-id-3\" type=\"checkbox\" checked><label for=\"sk-estimator-id-3\" class=\"sk-toggleable__label sk-toggleable__label-arrow\">RandomForestClassifier</label><div class=\"sk-toggleable__content\"><pre>RandomForestClassifier()</pre></div></div></div></div></div>"
            ]
          },
          "metadata": {},
          "execution_count": 61
        }
      ]
    },
    {
      "cell_type": "code",
      "source": [
        "feature_imp = pd.Series(clf.feature_importances_,index=data4.feature_names).sort_values(ascending=False)\n",
        "feature_imp"
      ],
      "metadata": {
        "colab": {
          "base_uri": "https://localhost:8080/"
        },
        "id": "sEBzkVryy9Av",
        "outputId": "18a571ec-73cb-40df-a82f-3d28d08297ed"
      },
      "execution_count": null,
      "outputs": [
        {
          "output_type": "execute_result",
          "data": {
            "text/plain": [
              "pixel_2_5    0.049363\n",
              "pixel_5_3    0.041176\n",
              "pixel_3_2    0.040690\n",
              "pixel_5_2    0.038999\n",
              "pixel_4_4    0.037660\n",
              "               ...   \n",
              "pixel_7_0    0.000012\n",
              "pixel_0_0    0.000000\n",
              "pixel_4_7    0.000000\n",
              "pixel_1_0    0.000000\n",
              "pixel_4_0    0.000000\n",
              "Length: 64, dtype: float64"
            ]
          },
          "metadata": {},
          "execution_count": 62
        }
      ]
    },
    {
      "cell_type": "code",
      "source": [
        "%matplotlib inline\n",
        "# Creating a bar plot\n",
        "sns.barplot(x=feature_imp, y=feature_imp.index)\n",
        "# Add labels to your graph\n",
        "plt.xlabel('Feature Importance Score')\n",
        "plt.ylabel('Features')\n",
        "plt.title(\"Visualizing Important Features\")\n",
        "plt.legend()\n",
        "plt.show()"
      ],
      "metadata": {
        "colab": {
          "base_uri": "https://localhost:8080/",
          "height": 312
        },
        "id": "xo63OckczNez",
        "outputId": "72426503-2cd3-43e8-d953-2249682d70f5"
      },
      "execution_count": null,
      "outputs": [
        {
          "output_type": "stream",
          "name": "stderr",
          "text": [
            "WARNING:matplotlib.legend:No artists with labels found to put in legend.  Note that artists whose label start with an underscore are ignored when legend() is called with no argument.\n"
          ]
        },
        {
          "output_type": "display_data",
          "data": {
            "text/plain": [
              "<Figure size 432x288 with 1 Axes>"
            ],
            "image/png": "[encoded data removed]"
          },
          "metadata": {
            "needs_background": "light"
          }
        }
      ]
    },
    {
      "cell_type": "code",
      "source": [
        "features = feature_imp.index[0:2].values\n",
        "print(feature_imp.index[0:2].values)\n",
        "# features_index = data4.feature_names.index(feature_imp.index[0:2].values)\n",
        "X_new = data[feature_imp.index[0:2]]\n",
        "X_new"
      ],
      "metadata": {
        "colab": {
          "base_uri": "https://localhost:8080/",
          "height": 441
        },
        "id": "Ze2q1MrlzoLH",
        "outputId": "c963a20e-b058-45fb-e353-1256bad35918"
      },
      "execution_count": null,
      "outputs": [
        {
          "output_type": "stream",
          "name": "stdout",
          "text": [
            "['pixel_2_5' 'pixel_5_3']\n"
          ]
        },
        {
          "output_type": "execute_result",
          "data": {
            "text/plain": [
              "      pixel_2_5  pixel_5_3\n",
              "0          11.0        0.0\n",
              "1           6.0       16.0\n",
              "2          16.0       16.0\n",
              "3           0.0        0.0\n",
              "4           2.0       16.0\n",
              "...         ...        ...\n",
              "1792       16.0        0.0\n",
              "1793       13.0        7.0\n",
              "1794       16.0       14.0\n",
              "1795       16.0        0.0\n",
              "1796       15.0        6.0\n",
              "\n",
              "[1797 rows x 2 columns]"
            ],
            "text/html": [
              "\n",
              "  <div id=\"df-25a4ba4b-20f2-43d3-a099-676d93d37c9e\">\n",
              "    <div class=\"colab-df-container\">\n",
              "      <div>\n",
              "<style scoped>\n",
              "    .dataframe tbody tr th:only-of-type {\n",
              "        vertical-align: middle;\n",
              "    }\n",
              "\n",
              "    .dataframe tbody tr th {\n",
              "        vertical-align: top;\n",
              "    }\n",
              "\n",
              "    .dataframe thead th {\n",
              "        text-align: right;\n",
              "    }\n",
              "</style>\n",
              "<table border=\"1\" class=\"dataframe\">\n",
              "  <thead>\n",
              "    <tr style=\"text-align: right;\">\n",
              "      <th></th>\n",
              "      <th>pixel_2_5</th>\n",
              "      <th>pixel_5_3</th>\n",
              "    </tr>\n",
              "  </thead>\n",
              "  <tbody>\n",
              "    <tr>\n",
              "      <th>0</th>\n",
              "      <td>11.0</td>\n",
              "      <td>0.0</td>\n",
              "    </tr>\n",
              "    <tr>\n",
              "      <th>1</th>\n",
              "      <td>6.0</td>\n",
              "      <td>16.0</td>\n",
              "    </tr>\n",
              "    <tr>\n",
              "      <th>2</th>\n",
              "      <td>16.0</td>\n",
              "      <td>16.0</td>\n",
              "    </tr>\n",
              "    <tr>\n",
              "      <th>3</th>\n",
              "      <td>0.0</td>\n",
              "      <td>0.0</td>\n",
              "    </tr>\n",
              "    <tr>\n",
              "      <th>4</th>\n",
              "      <td>2.0</td>\n",
              "      <td>16.0</td>\n",
              "    </tr>\n",
              "    <tr>\n",
              "      <th>...</th>\n",
              "      <td>...</td>\n",
              "      <td>...</td>\n",
              "    </tr>\n",
              "    <tr>\n",
              "      <th>1792</th>\n",
              "      <td>16.0</td>\n",
              "      <td>0.0</td>\n",
              "    </tr>\n",
              "    <tr>\n",
              "      <th>1793</th>\n",
              "      <td>13.0</td>\n",
              "      <td>7.0</td>\n",
              "    </tr>\n",
              "    <tr>\n",
              "      <th>1794</th>\n",
              "      <td>16.0</td>\n",
              "      <td>14.0</td>\n",
              "    </tr>\n",
              "    <tr>\n",
              "      <th>1795</th>\n",
              "      <td>16.0</td>\n",
              "      <td>0.0</td>\n",
              "    </tr>\n",
              "    <tr>\n",
              "      <th>1796</th>\n",
              "      <td>15.0</td>\n",
              "      <td>6.0</td>\n",
              "    </tr>\n",
              "  </tbody>\n",
              "</table>\n",
              "<p>1797 rows × 2 columns</p>\n",
              "</div>\n",
              "      <button class=\"colab-df-convert\" onclick=\"convertToInteractive('df-25a4ba4b-20f2-43d3-a099-676d93d37c9e')\"\n",
              "              title=\"Convert this dataframe to an interactive table.\"\n",
              "              style=\"display:none;\">\n",
              "        \n",
              "  <svg xmlns=\"http://www.w3.org/2000/svg\" height=\"24px\"viewBox=\"0 0 24 24\"\n",
              "       width=\"24px\">\n",
              "    <path d=\"M0 0h24v24H0V0z\" fill=\"none\"/>\n",
              "    <path d=\"M18.56 5.44l.94 2.06.94-2.06 2.06-.94-2.06-.94-.94-2.06-.94 2.06-2.06.94zm-11 1L8.5 8.5l.94-2.06 2.06-.94-2.06-.94L8.5 2.5l-.94 2.06-2.06.94zm10 10l.94 2.06.94-2.06 2.06-.94-2.06-.94-.94-2.06-.94 2.06-2.06.94z\"/><path d=\"M17.41 7.96l-1.37-1.37c-.4-.4-.92-.59-1.43-.59-.52 0-1.04.2-1.43.59L10.3 9.45l-7.72 7.72c-.78.78-.78 2.05 0 2.83L4 21.41c.39.39.9.59 1.41.59.51 0 1.02-.2 1.41-.59l7.78-7.78 2.81-2.81c.8-.78.8-2.07 0-2.86zM5.41 20L4 18.59l7.72-7.72 1.47 1.35L5.41 20z\"/>\n",
              "  </svg>\n",
              "      </button>\n",
              "      \n",
              "  <style>\n",
              "    .colab-df-container {\n",
              "      display:flex;\n",
              "      flex-wrap:wrap;\n",
              "      gap: 12px;\n",
              "    }\n",
              "\n",
              "    .colab-df-convert {\n",
              "      background-color: #E8F0FE;\n",
              "      border: none;\n",
              "      border-radius: 50%;\n",
              "      cursor: pointer;\n",
              "      display: none;\n",
              "      fill: #1967D2;\n",
              "      height: 32px;\n",
              "      padding: 0 0 0 0;\n",
              "      width: 32px;\n",
              "    }\n",
              "\n",
              "    .colab-df-convert:hover {\n",
              "      background-color: #E2EBFA;\n",
              "      box-shadow: 0px 1px 2px rgba(60, 64, 67, 0.3), 0px 1px 3px 1px rgba(60, 64, 67, 0.15);\n",
              "      fill: #174EA6;\n",
              "    }\n",
              "\n",
              "    [theme=dark] .colab-df-convert {\n",
              "      background-color: #3B4455;\n",
              "      fill: #D2E3FC;\n",
              "    }\n",
              "\n",
              "    [theme=dark] .colab-df-convert:hover {\n",
              "      background-color: #434B5C;\n",
              "      box-shadow: 0px 1px 3px 1px rgba(0, 0, 0, 0.15);\n",
              "      filter: drop-shadow(0px 1px 2px rgba(0, 0, 0, 0.3));\n",
              "      fill: #FFFFFF;\n",
              "    }\n",
              "  </style>\n",
              "\n",
              "      <script>\n",
              "        const buttonEl =\n",
              "          document.querySelector('#df-25a4ba4b-20f2-43d3-a099-676d93d37c9e button.colab-df-convert');\n",
              "        buttonEl.style.display =\n",
              "          google.colab.kernel.accessAllowed ? 'block' : 'none';\n",
              "\n",
              "        async function convertToInteractive(key) {\n",
              "          const element = document.querySelector('#df-25a4ba4b-20f2-43d3-a099-676d93d37c9e');\n",
              "          const dataTable =\n",
              "            await google.colab.kernel.invokeFunction('convertToInteractive',\n",
              "                                                     [key], {});\n",
              "          if (!dataTable) return;\n",
              "\n",
              "          const docLinkHtml = 'Like what you see? Visit the ' +\n",
              "            '<a target=\"_blank\" href=https://colab.research.google.com/notebooks/data_table.ipynb>data table notebook</a>'\n",
              "            + ' to learn more about interactive tables.';\n",
              "          element.innerHTML = '';\n",
              "          dataTable['output_type'] = 'display_data';\n",
              "          await google.colab.output.renderOutput(dataTable, element);\n",
              "          const docLink = document.createElement('div');\n",
              "          docLink.innerHTML = docLinkHtml;\n",
              "          element.appendChild(docLink);\n",
              "        }\n",
              "      </script>\n",
              "    </div>\n",
              "  </div>\n",
              "  "
            ]
          },
          "metadata": {},
          "execution_count": 96
        }
      ]
    },
    {
      "cell_type": "code",
      "source": [
        "X_train, X_test, y_train, y_test = train_test_split(X_new, y, test_size=0.3, random_state=1)"
      ],
      "metadata": {
        "id": "9fKjrgd895Li"
      },
      "execution_count": null,
      "outputs": []
    },
    {
      "cell_type": "markdown",
      "source": [
        "Random Forest"
      ],
      "metadata": {
        "id": "c26-ngE9a7-a"
      }
    },
    {
      "cell_type": "code",
      "source": [
        "#Create a Random Forest Classifier\n",
        "rfcsf=RandomForestClassifier(n_estimators=100)\n",
        "#Train the model using the training sets\n",
        "rfcsf.fit(X_train,y_train)\n",
        "y_pred = rfcsf.predict(X_test)\n",
        "rfcsfac = round(accuracy_score(y_test, y_pred), 4)\n",
        "rfcsfpc = round(precision_score(y_test, y_pred, average='micro'), 4)\n",
        "rfcsfrc= round(recall_score(y_test, y_pred, average='micro'), 4)\n",
        "rfcsff= round(f1_score(y_test, y_pred, average='micro'), 4)\n",
        "print (\"Accuracy : \", rfcsfac) \n",
        "print (\"Precision : \", rfcsfpc) \n",
        "print (\"Recall score : \", rfcsfrc) \n",
        "print (\"F1 score : \", rfcsff)"
      ],
      "metadata": {
        "id": "ggxY0w6S_HkU",
        "colab": {
          "base_uri": "https://localhost:8080/"
        },
        "outputId": "50b56b74-282e-479b-e9bb-2c698ed00663"
      },
      "execution_count": null,
      "outputs": [
        {
          "output_type": "stream",
          "name": "stdout",
          "text": [
            "Accuracy :  0.3556\n",
            "Precision :  0.3556\n",
            "Recall score :  0.3556\n",
            "F1 score :  0.3556\n"
          ]
        }
      ]
    },
    {
      "cell_type": "markdown",
      "source": [
        "GaussianNB"
      ],
      "metadata": {
        "id": "4GJd6KWtbL5W"
      }
    },
    {
      "cell_type": "code",
      "source": [
        "model = GaussianNB()\n",
        "model.fit(X_train, y_train)\n",
        "y_pred = model.predict(X_test)\n",
        "gnbsfac = round(accuracy_score(y_test, y_pred), 4)\n",
        "gnbsfpc = round(precision_score(y_test, y_pred, average='micro'), 4)\n",
        "gnbsfrc= round(recall_score(y_test, y_pred, average='micro'), 4)\n",
        "gnbsff= round(f1_score(y_test, y_pred, average='micro'), 4)\n",
        "print (\"Accuracy : \", gnbsfac) \n",
        "print (\"Precision : \", gnbsfpc) \n",
        "print (\"Recall score : \", gnbsfrc) \n",
        "print (\"F1 score : \", gnbsff)"
      ],
      "metadata": {
        "colab": {
          "base_uri": "https://localhost:8080/"
        },
        "id": "3WqpdiYLbO6E",
        "outputId": "b9a04b91-762e-46db-8501-401edecbb683"
      },
      "execution_count": null,
      "outputs": [
        {
          "output_type": "stream",
          "name": "stdout",
          "text": [
            "Accuracy :  0.3889\n",
            "Precision :  0.3889\n",
            "Recall score :  0.3889\n",
            "F1 score :  0.3889\n"
          ]
        }
      ]
    },
    {
      "cell_type": "markdown",
      "source": [
        "svm"
      ],
      "metadata": {
        "id": "qaOzGibmbBN3"
      }
    },
    {
      "cell_type": "code",
      "source": [
        "#Create a svm Classifier\n",
        "svmsf = svm.SVC(kernel='rbf') # rbf Kernel\n",
        "#Train the model using the training sets\n",
        "svmsf.fit(X_train, y_train)\n",
        "#Predict the response for test dataset\n",
        "y_pred = svmsf.predict(X_test)\n",
        "svmsfac = round(accuracy_score(y_test, y_pred), 2)\n",
        "svmsfpc = round(precision_score(y_test, y_pred, average='micro'), 2)\n",
        "svmsfrc= round(recall_score(y_test, y_pred, average='micro'), 2)\n",
        "svmsff= round(f1_score(y_test, y_pred, average='micro'), 2)\n",
        "print (\"Accuracy : \", svmsfac) \n",
        "print (\"Precision : \", svmsfpc) \n",
        "print (\"Recall score : \", svmsfrc) \n",
        "print (\"F1 score : \", svmsff)"
      ],
      "metadata": {
        "colab": {
          "base_uri": "https://localhost:8080/"
        },
        "id": "ZBILp_06bhRQ",
        "outputId": "163601e0-8b3a-446c-f472-9a8d468ffd30"
      },
      "execution_count": null,
      "outputs": [
        {
          "output_type": "stream",
          "name": "stdout",
          "text": [
            "Accuracy :  0.41\n",
            "Precision :  0.41\n",
            "Recall score :  0.41\n",
            "F1 score :  0.41\n"
          ]
        }
      ]
    },
    {
      "cell_type": "code",
      "source": [
        "table1 = PrettyTable()\n",
        "table1.field_names = [\"Classification algorithm\", \"Accuracy\", \"Precision\", \"Recall\", \"F1-score\"]\n",
        "table1.add_row([\"Random Forest\", rfcac, rfcpc, rfcrc, rfcf])\n",
        "table1.add_row([\"GaussianNB\", gnbac, gnbpc, gnbrc, gnbf])\n",
        "table1.add_row([\"SVM\",svmac, svmpc, svmrc, svmf ])\n",
        "table1.title = 'Results without using selection feature'\n"
      ],
      "metadata": {
        "id": "Z6aBp1k8bwEM"
      },
      "execution_count": null,
      "outputs": []
    },
    {
      "cell_type": "code",
      "source": [
        "table2 = PrettyTable()\n",
        "table2.field_names = [\"Classification algorithm\", \"Accuracy\", \"Precision\", \"Recall\", \"F1-score\"]\n",
        "table2.add_row([\"Random Forest\", rfcsfac, rfcsfpc, rfcsfrc, rfcsff])\n",
        "table2.add_row([\"GaussianNB\", gnbsfac, gnbsfpc, gnbsfrc, gnbsff])\n",
        "table2.add_row([\"SVM\",svmsfac, svmsfpc, svmsfrc, svmsff ])\n",
        "table2.title = 'Results using selection feature'\n",
        "print(table1)\n",
        "print(table2)"
      ],
      "metadata": {
        "colab": {
          "base_uri": "https://localhost:8080/"
        },
        "id": "ZQRk2EBMcc75",
        "outputId": "0d547163-a125-4571-ffe1-ead9e99a8cb6"
      },
      "execution_count": null,
      "outputs": [
        {
          "output_type": "stream",
          "name": "stdout",
          "text": [
            "+---------------------------------------------------------------------+\n",
            "|               Results without using selection feature               |\n",
            "+--------------------------+----------+-----------+--------+----------+\n",
            "| Classification algorithm | Accuracy | Precision | Recall | F1-score |\n",
            "+--------------------------+----------+-----------+--------+----------+\n",
            "|      Random Forest       |  0.9667  |   0.9667  | 0.9667 |  0.9667  |\n",
            "|        GaussianNB        |  0.813   |   0.813   | 0.813  |  0.813   |\n",
            "|           SVM            |   0.98   |    0.98   |  0.98  |   0.98   |\n",
            "+--------------------------+----------+-----------+--------+----------+\n",
            "+---------------------------------------------------------------------+\n",
            "|                   Results using selection feature                   |\n",
            "+--------------------------+----------+-----------+--------+----------+\n",
            "| Classification algorithm | Accuracy | Precision | Recall | F1-score |\n",
            "+--------------------------+----------+-----------+--------+----------+\n",
            "|      Random Forest       |  0.3556  |   0.3556  | 0.3556 |  0.3556  |\n",
            "|        GaussianNB        |  0.3889  |   0.3889  | 0.3889 |  0.3889  |\n",
            "|           SVM            |   0.41   |    0.41   |  0.41  |   0.41   |\n",
            "+--------------------------+----------+-----------+--------+----------+\n"
          ]
        }
      ]
    },
    {
      "cell_type": "markdown",
      "source": [
        "#Task 2. \n",
        "For given bank dataset (bank.csv) having the following attributes :\n",
        "1.\t**age** (numeric)\n",
        "2.\t**job** : type of job (categorical: 'admin.','blue-collar','entrepreneur','housemaid','management','retired','self-employed','services','student','technician','unemployed','unknown')\n",
        "3.\t**marital** : marital status (categorical: 'divorced','married','single','unknown'; note: 'divorced' means divorced or widowed)\n",
        "4.\t**education** (categorical: 'basic.4y','basic.6y','basic.9y','high.school','illiterate','professional.course','university.degree','unknown')\n",
        "5.\t**default**: has credit in default? (categorical: 'no','yes','unknown')\n",
        "6.\t**housing**: has housing loan? (categorical: 'no','yes','unknown')\n",
        "7.\t**loan**: has personal loan? (categorical: 'no','yes','unknown')\n",
        "8.\t**contact**: contact communication type (categorical: 'cellular','telephone')\n",
        "9.\t**month**: last contact month of year (categorical: 'jan', 'feb', 'mar', ..., 'nov', 'dec')\n",
        "10.\t**day_of_week**: last contact day of the week (categorical: 'mon','tue','wed','thu','fri')\n",
        "11.\t**duration**: last contact duration, in seconds (numeric). Important note: this attribute highly affects the output target (e.g., if duration=0 then y='no'). Yet, the duration is not known before a call is performed. Also, after the end of the call y is obviously known. Thus, this input should only be included for benchmark purposes and should be discarded if the intention is to have a realistic predictive model.\n",
        "12.\t**campaign**: number of contacts performed during this campaign and for this client (numeric, includes last contact)\n",
        "13.\t**pdays**: number of days that passed by after the client was last contacted from a previous campaign (numeric; 999 means client was not previously contacted)\n",
        "14.\t**previous**: number of contacts performed before this campaign and for this client (numeric)\n",
        "15.\t**poutcome**: outcome of the previous marketing campaign (categorical: 'failure','nonexistent','success')\n",
        "Output variable (desired target):\n",
        "16.\t**y**. has the client subscribed a term deposit? (binary: 'yes','no')\n",
        "\n"
      ],
      "metadata": {
        "id": "b52OPWPD2afi"
      }
    },
    {
      "cell_type": "markdown",
      "source": [
        "#3.1. Apply StandardScaler() function to columns that contains numerical data ('age', 'balance', 'day', 'campaign', 'pdays', 'previous')"
      ],
      "metadata": {
        "id": "q89LEvT7dqaZ"
      }
    },
    {
      "cell_type": "code",
      "source": [
        "data3_1 = pd.read_csv('bank.csv')\n",
        "print(data3_1)\n"
      ],
      "metadata": {
        "colab": {
          "base_uri": "https://localhost:8080/"
        },
        "id": "eJG1O3YF4OGL",
        "outputId": "8983aa43-6c50-40be-e8f3-d3b984066ce0"
      },
      "execution_count": 41,
      "outputs": [
        {
          "output_type": "stream",
          "name": "stdout",
          "text": [
            "       age          job  marital  education default  balance housing loan  \\\n",
            "0       59       admin.  married  secondary      no     2343     yes   no   \n",
            "1       56       admin.  married  secondary      no       45      no   no   \n",
            "2       41   technician  married  secondary      no     1270     yes   no   \n",
            "3       55     services  married  secondary      no     2476     yes   no   \n",
            "4       54       admin.  married   tertiary      no      184      no   no   \n",
            "...    ...          ...      ...        ...     ...      ...     ...  ...   \n",
            "11157   33  blue-collar   single    primary      no        1     yes   no   \n",
            "11158   39     services  married  secondary      no      733      no   no   \n",
            "11159   32   technician   single  secondary      no       29      no   no   \n",
            "11160   43   technician  married  secondary      no        0      no  yes   \n",
            "11161   34   technician  married  secondary      no        0      no   no   \n",
            "\n",
            "        contact  day month  duration  campaign  pdays  previous poutcome  \\\n",
            "0       unknown    5   may      1042         1     -1         0  unknown   \n",
            "1       unknown    5   may      1467         1     -1         0  unknown   \n",
            "2       unknown    5   may      1389         1     -1         0  unknown   \n",
            "3       unknown    5   may       579         1     -1         0  unknown   \n",
            "4       unknown    5   may       673         2     -1         0  unknown   \n",
            "...         ...  ...   ...       ...       ...    ...       ...      ...   \n",
            "11157  cellular   20   apr       257         1     -1         0  unknown   \n",
            "11158   unknown   16   jun        83         4     -1         0  unknown   \n",
            "11159  cellular   19   aug       156         2     -1         0  unknown   \n",
            "11160  cellular    8   may         9         2    172         5  failure   \n",
            "11161  cellular    9   jul       628         1     -1         0  unknown   \n",
            "\n",
            "      deposit  \n",
            "0         yes  \n",
            "1         yes  \n",
            "2         yes  \n",
            "3         yes  \n",
            "4         yes  \n",
            "...       ...  \n",
            "11157      no  \n",
            "11158      no  \n",
            "11159      no  \n",
            "11160      no  \n",
            "11161      no  \n",
            "\n",
            "[11162 rows x 17 columns]\n"
          ]
        }
      ]
    },
    {
      "cell_type": "code",
      "source": [
        "#code\n",
        "data3_1_name = ['age', 'balance', 'day', 'campaign', 'pdays', 'previous']\n",
        "scaler = StandardScaler()\n",
        "# StandardScale for each columns\n",
        "for i in data3_1_name:\n",
        "  # print(i)\n",
        "  data_feature = data3_1[i]\n",
        "  data_trans = scaler.fit_transform(data_feature.values.reshape(-1,1))\n",
        "  # print(data_trans)\n",
        "  data3_1[i] = data_trans\n",
        "print(data3_1)\n"
      ],
      "metadata": {
        "id": "8vx3mfIidu4P",
        "colab": {
          "base_uri": "https://localhost:8080/"
        },
        "outputId": "9772f285-848d-464d-8ac6-7f939c3e01ba"
      },
      "execution_count": 42,
      "outputs": [
        {
          "output_type": "stream",
          "name": "stdout",
          "text": [
            "            age          job  marital  education default   balance housing  \\\n",
            "0      1.491505       admin.  married  secondary      no  0.252525     yes   \n",
            "1      1.239676       admin.  married  secondary      no -0.459974      no   \n",
            "2     -0.019470   technician  married  secondary      no -0.080160     yes   \n",
            "3      1.155733     services  married  secondary      no  0.293762     yes   \n",
            "4      1.071790       admin.  married   tertiary      no -0.416876      no   \n",
            "...         ...          ...      ...        ...     ...       ...     ...   \n",
            "11157 -0.691015  blue-collar   single    primary      no -0.473616     yes   \n",
            "11158 -0.187357     services  married  secondary      no -0.246658      no   \n",
            "11159 -0.774958   technician   single  secondary      no -0.464934      no   \n",
            "11160  0.148416   technician  married  secondary      no -0.473926      no   \n",
            "11161 -0.607072   technician  married  secondary      no -0.473926      no   \n",
            "\n",
            "      loan   contact       day month  duration  campaign     pdays  previous  \\\n",
            "0       no   unknown -1.265746   may      1042 -0.554168 -0.481184 -0.363260   \n",
            "1       no   unknown -1.265746   may      1467 -0.554168 -0.481184 -0.363260   \n",
            "2       no   unknown -1.265746   may      1389 -0.554168 -0.481184 -0.363260   \n",
            "3       no   unknown -1.265746   may       579 -0.554168 -0.481184 -0.363260   \n",
            "4       no   unknown -1.265746   may       673 -0.186785 -0.481184 -0.363260   \n",
            "...    ...       ...       ...   ...       ...       ...       ...       ...   \n",
            "11157   no  cellular  0.515650   apr       257 -0.554168 -0.481184 -0.363260   \n",
            "11158   no   unknown  0.040612   jun        83  0.547981 -0.481184 -0.363260   \n",
            "11159   no  cellular  0.396891   aug       156 -0.186785 -0.481184 -0.363260   \n",
            "11160  yes  cellular -0.909466   may         9 -0.186785  1.109571  1.818332   \n",
            "11161   no  cellular -0.790707   jul       628 -0.554168 -0.481184 -0.363260   \n",
            "\n",
            "      poutcome deposit  \n",
            "0      unknown     yes  \n",
            "1      unknown     yes  \n",
            "2      unknown     yes  \n",
            "3      unknown     yes  \n",
            "4      unknown     yes  \n",
            "...        ...     ...  \n",
            "11157  unknown      no  \n",
            "11158  unknown      no  \n",
            "11159  unknown      no  \n",
            "11160  failure      no  \n",
            "11161  unknown      no  \n",
            "\n",
            "[11162 rows x 17 columns]\n"
          ]
        }
      ]
    },
    {
      "cell_type": "markdown",
      "source": [
        "#3.2. Apply Encode Categorical Value (OneHotEncoder) to transfrom categorical data to numerical data ('job', 'marital', 'education', 'default', 'housing', 'loan', 'contact', 'month', 'poutcome')"
      ],
      "metadata": {
        "id": "r7acR0TxdvY8"
      }
    },
    {
      "cell_type": "code",
      "source": [
        "#code\n",
        "from sklearn.preprocessing import OneHotEncoder\n",
        "encoder = OneHotEncoder()\n",
        "categoricalName = ['job', 'marital', 'education', 'default', 'housing', 'loan', 'contact', 'month', 'poutcome']\n",
        "categoricalData = data3_1[categoricalName]\n",
        "for i in categoricalName:\n",
        "  # print(i)\n",
        "  categorical_feature = data3_1[i]\n",
        "  encoded_data = encoder.fit_transform(categoricalData).toarray()\n",
        "  # print(encoded_data)\n",
        "  data3_1[i] = data_trans\n",
        "print(data3_1)\n"
      ],
      "metadata": {
        "id": "egtgBmAtd0um",
        "colab": {
          "base_uri": "https://localhost:8080/"
        },
        "outputId": "dd3622cc-5a9e-43b8-94fd-6e57f2f0277e"
      },
      "execution_count": 43,
      "outputs": [
        {
          "output_type": "stream",
          "name": "stdout",
          "text": [
            "            age       job   marital  education   default   balance   housing  \\\n",
            "0      1.491505 -0.363260 -0.363260  -0.363260 -0.363260  0.252525 -0.363260   \n",
            "1      1.239676 -0.363260 -0.363260  -0.363260 -0.363260 -0.459974 -0.363260   \n",
            "2     -0.019470 -0.363260 -0.363260  -0.363260 -0.363260 -0.080160 -0.363260   \n",
            "3      1.155733 -0.363260 -0.363260  -0.363260 -0.363260  0.293762 -0.363260   \n",
            "4      1.071790 -0.363260 -0.363260  -0.363260 -0.363260 -0.416876 -0.363260   \n",
            "...         ...       ...       ...        ...       ...       ...       ...   \n",
            "11157 -0.691015 -0.363260 -0.363260  -0.363260 -0.363260 -0.473616 -0.363260   \n",
            "11158 -0.187357 -0.363260 -0.363260  -0.363260 -0.363260 -0.246658 -0.363260   \n",
            "11159 -0.774958 -0.363260 -0.363260  -0.363260 -0.363260 -0.464934 -0.363260   \n",
            "11160  0.148416  1.818332  1.818332   1.818332  1.818332 -0.473926  1.818332   \n",
            "11161 -0.607072 -0.363260 -0.363260  -0.363260 -0.363260 -0.473926 -0.363260   \n",
            "\n",
            "           loan   contact       day     month  duration  campaign     pdays  \\\n",
            "0     -0.363260 -0.363260 -1.265746 -0.363260      1042 -0.554168 -0.481184   \n",
            "1     -0.363260 -0.363260 -1.265746 -0.363260      1467 -0.554168 -0.481184   \n",
            "2     -0.363260 -0.363260 -1.265746 -0.363260      1389 -0.554168 -0.481184   \n",
            "3     -0.363260 -0.363260 -1.265746 -0.363260       579 -0.554168 -0.481184   \n",
            "4     -0.363260 -0.363260 -1.265746 -0.363260       673 -0.186785 -0.481184   \n",
            "...         ...       ...       ...       ...       ...       ...       ...   \n",
            "11157 -0.363260 -0.363260  0.515650 -0.363260       257 -0.554168 -0.481184   \n",
            "11158 -0.363260 -0.363260  0.040612 -0.363260        83  0.547981 -0.481184   \n",
            "11159 -0.363260 -0.363260  0.396891 -0.363260       156 -0.186785 -0.481184   \n",
            "11160  1.818332  1.818332 -0.909466  1.818332         9 -0.186785  1.109571   \n",
            "11161 -0.363260 -0.363260 -0.790707 -0.363260       628 -0.554168 -0.481184   \n",
            "\n",
            "       previous  poutcome deposit  \n",
            "0     -0.363260 -0.363260     yes  \n",
            "1     -0.363260 -0.363260     yes  \n",
            "2     -0.363260 -0.363260     yes  \n",
            "3     -0.363260 -0.363260     yes  \n",
            "4     -0.363260 -0.363260     yes  \n",
            "...         ...       ...     ...  \n",
            "11157 -0.363260 -0.363260      no  \n",
            "11158 -0.363260 -0.363260      no  \n",
            "11159 -0.363260 -0.363260      no  \n",
            "11160  1.818332  1.818332      no  \n",
            "11161 -0.363260 -0.363260      no  \n",
            "\n",
            "[11162 rows x 17 columns]\n"
          ]
        }
      ]
    },
    {
      "cell_type": "markdown",
      "source": [
        "#3.3. Apply **Decision tree, Random forest, kNN, NaïveBayes** to preproceed dataset in the previous steps. Then compare the obtained results using **accuracy, precision, recall, f1** measures."
      ],
      "metadata": {
        "id": "K2Si6d69d1nh"
      }
    },
    {
      "cell_type": "code",
      "source": [
        "data3_1['deposit'] = data3_1['deposit'].replace({'yes': 1, 'no': 0})\n",
        "\n",
        "X = data3_1.iloc[:, 1:-1]\n",
        "y = data3_1.iloc[:,-1]\n",
        "X_train, X_test, y_train, y_test = train_test_split(X, y, test_size=0.3, random_state=1)\n",
        "print(y)\n",
        "print(data3_1)"
      ],
      "metadata": {
        "colab": {
          "base_uri": "https://localhost:8080/"
        },
        "id": "X9jGMjNR6g3p",
        "outputId": "ba769ac2-5722-4f98-b505-7fe950d7c83f"
      },
      "execution_count": 44,
      "outputs": [
        {
          "output_type": "stream",
          "name": "stdout",
          "text": [
            "0        1\n",
            "1        1\n",
            "2        1\n",
            "3        1\n",
            "4        1\n",
            "        ..\n",
            "11157    0\n",
            "11158    0\n",
            "11159    0\n",
            "11160    0\n",
            "11161    0\n",
            "Name: deposit, Length: 11162, dtype: int64\n",
            "            age       job   marital  education   default   balance   housing  \\\n",
            "0      1.491505 -0.363260 -0.363260  -0.363260 -0.363260  0.252525 -0.363260   \n",
            "1      1.239676 -0.363260 -0.363260  -0.363260 -0.363260 -0.459974 -0.363260   \n",
            "2     -0.019470 -0.363260 -0.363260  -0.363260 -0.363260 -0.080160 -0.363260   \n",
            "3      1.155733 -0.363260 -0.363260  -0.363260 -0.363260  0.293762 -0.363260   \n",
            "4      1.071790 -0.363260 -0.363260  -0.363260 -0.363260 -0.416876 -0.363260   \n",
            "...         ...       ...       ...        ...       ...       ...       ...   \n",
            "11157 -0.691015 -0.363260 -0.363260  -0.363260 -0.363260 -0.473616 -0.363260   \n",
            "11158 -0.187357 -0.363260 -0.363260  -0.363260 -0.363260 -0.246658 -0.363260   \n",
            "11159 -0.774958 -0.363260 -0.363260  -0.363260 -0.363260 -0.464934 -0.363260   \n",
            "11160  0.148416  1.818332  1.818332   1.818332  1.818332 -0.473926  1.818332   \n",
            "11161 -0.607072 -0.363260 -0.363260  -0.363260 -0.363260 -0.473926 -0.363260   \n",
            "\n",
            "           loan   contact       day     month  duration  campaign     pdays  \\\n",
            "0     -0.363260 -0.363260 -1.265746 -0.363260      1042 -0.554168 -0.481184   \n",
            "1     -0.363260 -0.363260 -1.265746 -0.363260      1467 -0.554168 -0.481184   \n",
            "2     -0.363260 -0.363260 -1.265746 -0.363260      1389 -0.554168 -0.481184   \n",
            "3     -0.363260 -0.363260 -1.265746 -0.363260       579 -0.554168 -0.481184   \n",
            "4     -0.363260 -0.363260 -1.265746 -0.363260       673 -0.186785 -0.481184   \n",
            "...         ...       ...       ...       ...       ...       ...       ...   \n",
            "11157 -0.363260 -0.363260  0.515650 -0.363260       257 -0.554168 -0.481184   \n",
            "11158 -0.363260 -0.363260  0.040612 -0.363260        83  0.547981 -0.481184   \n",
            "11159 -0.363260 -0.363260  0.396891 -0.363260       156 -0.186785 -0.481184   \n",
            "11160  1.818332  1.818332 -0.909466  1.818332         9 -0.186785  1.109571   \n",
            "11161 -0.363260 -0.363260 -0.790707 -0.363260       628 -0.554168 -0.481184   \n",
            "\n",
            "       previous  poutcome  deposit  \n",
            "0     -0.363260 -0.363260        1  \n",
            "1     -0.363260 -0.363260        1  \n",
            "2     -0.363260 -0.363260        1  \n",
            "3     -0.363260 -0.363260        1  \n",
            "4     -0.363260 -0.363260        1  \n",
            "...         ...       ...      ...  \n",
            "11157 -0.363260 -0.363260        0  \n",
            "11158 -0.363260 -0.363260        0  \n",
            "11159 -0.363260 -0.363260        0  \n",
            "11160  1.818332  1.818332        0  \n",
            "11161 -0.363260 -0.363260        0  \n",
            "\n",
            "[11162 rows x 17 columns]\n"
          ]
        }
      ]
    },
    {
      "cell_type": "markdown",
      "source": [
        "Decision tree"
      ],
      "metadata": {
        "id": "F3_igq8M6Wga"
      }
    },
    {
      "cell_type": "code",
      "source": [
        "#code\n",
        "clf_model = DecisionTreeClassifier()\n",
        "clf_model.fit(X_train,y_train)\n",
        "# tree.plot_tree(clf)\n",
        "y_pred_dt = clf_model.predict(X_test)\n",
        "print('Decision Tree Classifier:')\n",
        "dtac = round(accuracy_score(y_test, y_pred_dt), 4)\n",
        "dtpc = round(precision_score(y_test, y_pred_dt), 4)\n",
        "dtrc= round(recall_score(y_test, y_pred_dt), 4)\n",
        "dtf= round(f1_score(y_test, y_pred_dt), 4)\n",
        "print('Accuracy:', dtac)\n",
        "print('Precision:', dtpc)\n",
        "print('Recall:', dtrc)\n",
        "print('F1-score:', dtf)\n",
        "print()"
      ],
      "metadata": {
        "id": "Ouil-cf_d8jW",
        "colab": {
          "base_uri": "https://localhost:8080/"
        },
        "outputId": "26717216-8fef-48c3-b75c-159a24ffd015"
      },
      "execution_count": 45,
      "outputs": [
        {
          "output_type": "stream",
          "name": "stdout",
          "text": [
            "Decision Tree Classifier:\n",
            "Accuracy: 0.728\n",
            "Precision: 0.7108\n",
            "Recall: 0.7193\n",
            "F1-score: 0.715\n",
            "\n"
          ]
        }
      ]
    },
    {
      "cell_type": "markdown",
      "source": [
        "Random forest"
      ],
      "metadata": {
        "id": "xw0r_94-nukz"
      }
    },
    {
      "cell_type": "code",
      "source": [
        "# code\n",
        "#Create a Random Forest Classifier\n",
        "rfc=RandomForestClassifier(n_estimators=100)\n",
        "#Train the model using the training sets\n",
        "rfc.fit(X_train,y_train)\n",
        "y_pred = rfc.predict(X_test)\n",
        "rfcac = round(accuracy_score(y_test, y_pred), 4)\n",
        "rfcpc = round(precision_score(y_test, y_pred), 4)\n",
        "rfcrc= round(recall_score(y_test, y_pred), 4)\n",
        "rfcf= round(f1_score(y_test, y_pred), 4)\n",
        "print (\"Accuracy : \", rfcac) \n",
        "print (\"Precision : \", rfcpc) \n",
        "print (\"Recall score : \", rfcrc) \n",
        "print (\"F1 score : \", rfcf)"
      ],
      "metadata": {
        "colab": {
          "base_uri": "https://localhost:8080/"
        },
        "id": "sD1UIMavnuRF",
        "outputId": "daf1960a-bb2e-4924-f716-ac46ff1a7fea"
      },
      "execution_count": 46,
      "outputs": [
        {
          "output_type": "stream",
          "name": "stdout",
          "text": [
            "Accuracy :  0.7817\n",
            "Precision :  0.7671\n",
            "Recall score :  0.7753\n",
            "F1 score :  0.7712\n"
          ]
        }
      ]
    },
    {
      "cell_type": "markdown",
      "source": [
        "kNN"
      ],
      "metadata": {
        "id": "VQQ08flwnxVn"
      }
    },
    {
      "cell_type": "code",
      "source": [
        "clf_knn = KNeighborsClassifier()\n",
        "clf_knn.fit(X_train, y_train)\n",
        "y_pred_knn = clf_knn.predict(X_test)\n",
        "knnac =round(accuracy_score(y_test, y_pred_knn), 4)\n",
        "knnpc =round(precision_score(y_test, y_pred_knn), 4)\n",
        "knnrc=round(recall_score(y_test, y_pred_knn), 4)\n",
        "knnf=round(f1_score(y_test, y_pred_knn), 4)\n",
        "print('kNN Classifier:')\n",
        "print('Accuracy:', knnac)\n",
        "print('Precision:', knnpc)\n",
        "print('Recall:', knnrc)\n",
        "print('F1-score:', knnf)\n",
        "print()"
      ],
      "metadata": {
        "colab": {
          "base_uri": "https://localhost:8080/"
        },
        "id": "dsBrttoSozU-",
        "outputId": "158eacf6-9f43-420e-8646-fabc2c45883a"
      },
      "execution_count": 47,
      "outputs": [
        {
          "output_type": "stream",
          "name": "stdout",
          "text": [
            "kNN Classifier:\n",
            "Accuracy: 0.7325\n",
            "Precision: 0.7305\n",
            "Recall: 0.691\n",
            "F1-score: 0.7102\n",
            "\n"
          ]
        }
      ]
    },
    {
      "cell_type": "markdown",
      "source": [
        "NaïveBayes"
      ],
      "metadata": {
        "id": "Rsz8AEp5nzWr"
      }
    },
    {
      "cell_type": "code",
      "source": [
        "model = GaussianNB()\n",
        "model.fit(X_train, y_train)\n",
        "y_pred = model.predict(X_test)\n",
        "gnbac = round(accuracy_score(y_test, y_pred), 4)\n",
        "gnbpc = round(precision_score(y_test, y_pred, average='micro'), 4)\n",
        "gnbrc= round(recall_score(y_test, y_pred, average='micro'), 4)\n",
        "gnbf= round(f1_score(y_test, y_pred, average='micro'), 4)\n",
        "print (\"Accuracy : \", gnbac) \n",
        "print (\"Precision : \", gnbpc) \n",
        "print (\"Recall score : \", gnbrc) \n",
        "print (\"F1 score : \", gnbf)"
      ],
      "metadata": {
        "colab": {
          "base_uri": "https://localhost:8080/"
        },
        "id": "pzFa2KoYp8Ix",
        "outputId": "8c0f5201-91eb-465b-e463-cb363358a113"
      },
      "execution_count": 48,
      "outputs": [
        {
          "output_type": "stream",
          "name": "stdout",
          "text": [
            "Accuracy :  0.6632\n",
            "Precision :  0.6632\n",
            "Recall score :  0.6632\n",
            "F1 score :  0.6632\n"
          ]
        }
      ]
    },
    {
      "cell_type": "code",
      "source": [
        "table1 = PrettyTable()\n",
        "table1.field_names = [\"Classification algorithm\", \"Accuracy\", \"Precision\", \"Recall\", \"F1-score\"]\n",
        "table1.add_row([\"Decision tree\", dtac, dtpc, dtrc, dtf])\n",
        "table1.add_row([\"Random forest\", rfcac, rfcpc, rfcrc, rfcf])\n",
        "table1.add_row([\"kNN\",knnac, knnpc, knnrc, knnf ])\n",
        "table1.add_row([\"NaïveBayes\",gnbac, gnbpc, gnbrc, gnbf ])\n",
        "table1.title = 'Results without using selection feature'\n",
        "print(table1)"
      ],
      "metadata": {
        "colab": {
          "base_uri": "https://localhost:8080/"
        },
        "id": "EJcISWiQp-F5",
        "outputId": "68f327a9-f0ef-41ee-fcab-7fe4d2ac39f1"
      },
      "execution_count": 49,
      "outputs": [
        {
          "output_type": "stream",
          "name": "stdout",
          "text": [
            "+---------------------------------------------------------------------+\n",
            "|               Results without using selection feature               |\n",
            "+--------------------------+----------+-----------+--------+----------+\n",
            "| Classification algorithm | Accuracy | Precision | Recall | F1-score |\n",
            "+--------------------------+----------+-----------+--------+----------+\n",
            "|      Decision tree       |  0.728   |   0.7108  | 0.7193 |  0.715   |\n",
            "|      Random forest       |  0.7817  |   0.7671  | 0.7753 |  0.7712  |\n",
            "|           kNN            |  0.7325  |   0.7305  | 0.691  |  0.7102  |\n",
            "|        NaïveBayes        |  0.6632  |   0.6632  | 0.6632 |  0.6632  |\n",
            "+--------------------------+----------+-----------+--------+----------+\n"
          ]
        }
      ]
    },
    {
      "cell_type": "markdown",
      "source": [
        "#3.4. Using selection feature to above dataset, then compare the classification results with those in Task 2.3. "
      ],
      "metadata": {
        "id": "SweVRB4meApP"
      }
    },
    {
      "cell_type": "markdown",
      "source": [
        "Use selection feature"
      ],
      "metadata": {
        "id": "A4xBLGq8fnN4"
      }
    },
    {
      "cell_type": "code",
      "source": [
        "#code\n",
        "#Create a Random Forest Classifier\n",
        "clf=RandomForestClassifier(n_estimators=100)\n",
        "feature_names  = data3_1.columns[0:-2]\n",
        "# print(feature_names)\n",
        "# print(X)\n",
        "# print(y)\n",
        "#Train the model using the training sets y_pred=clf.predict(X_test)\n",
        "clf.fit(X,y)\n",
        "feature_imp = pd.Series(clf.feature_importances_,index=feature_names).sort_values(ascending=False)\n",
        "print(feature_imp)\n",
        "# draw chart\n",
        "%matplotlib inline\n",
        "# Creating a bar plot\n",
        "sns.barplot(x=feature_imp, y=feature_imp.index)\n",
        "# Add labels to your graph\n",
        "plt.xlabel('Feature Importance Score')\n",
        "plt.ylabel('Features')\n",
        "plt.title(\"Visualizing Important Features\")\n",
        "plt.legend()\n",
        "plt.show()\n",
        "\n",
        "features = feature_imp.index[0:5].values\n",
        "print(feature_imp.index[0:5].values)\n",
        "# features_index = data4.feature_names.index(feature_imp.index[0:5].values)\n",
        "X_new = data3_1[feature_imp.index[0:5]]\n",
        "X_new\n",
        "X_train, X_test, y_train, y_test = train_test_split(X_new, y, test_size=0.3, random_state=1)"
      ],
      "metadata": {
        "id": "seFBhqCSeC7C",
        "colab": {
          "base_uri": "https://localhost:8080/",
          "height": 607
        },
        "outputId": "bd38ac9f-367c-4483-baa5-0e3ac6917c0d"
      },
      "execution_count": 50,
      "outputs": [
        {
          "output_type": "stream",
          "name": "stderr",
          "text": [
            "WARNING:matplotlib.legend:No artists with labels found to put in legend.  Note that artists whose label start with an underscore are ignored when legend() is called with no argument.\n"
          ]
        },
        {
          "output_type": "stream",
          "name": "stdout",
          "text": [
            "month        0.480239\n",
            "default      0.216063\n",
            "contact      0.135606\n",
            "campaign     0.060725\n",
            "duration     0.045985\n",
            "loan         0.007624\n",
            "job          0.007248\n",
            "pdays        0.007204\n",
            "housing      0.007096\n",
            "previous     0.006376\n",
            "balance      0.005843\n",
            "day          0.005785\n",
            "age          0.005770\n",
            "education    0.004288\n",
            "marital      0.004149\n",
            "dtype: float64\n"
          ]
        },
        {
          "output_type": "display_data",
          "data": {
            "text/plain": [
              "<Figure size 432x288 with 1 Axes>"
            ],
            "image/png": "[encoded data removed]"
          },
          "metadata": {
            "needs_background": "light"
          }
        },
        {
          "output_type": "stream",
          "name": "stdout",
          "text": [
            "['month' 'default' 'contact' 'campaign' 'duration']\n"
          ]
        }
      ]
    },
    {
      "cell_type": "markdown",
      "source": [
        "Decision tree"
      ],
      "metadata": {
        "id": "x0y7OeFHuC0A"
      }
    },
    {
      "cell_type": "code",
      "source": [
        "#code\n",
        "clf_model = DecisionTreeClassifier()\n",
        "clf_model.fit(X_train,y_train)\n",
        "# tree.plot_tree(clf)\n",
        "y_pred_dt = clf_model.predict(X_test)\n",
        "print('Decision Tree Classifier:')\n",
        "dtsfac = round(accuracy_score(y_test, y_pred_dt), 4)\n",
        "dtsfpc = round(precision_score(y_test, y_pred_dt), 4)\n",
        "dtsfrc= round(recall_score(y_test, y_pred_dt), 4)\n",
        "dtsff= round(f1_score(y_test, y_pred_dt), 4)\n",
        "print('Accuracy:', dtsfac)\n",
        "print('Precision:', dtsfpc)\n",
        "print('Recall:', dtsfrc)\n",
        "print('F1-score:', dtsff)\n",
        "print()"
      ],
      "metadata": {
        "colab": {
          "base_uri": "https://localhost:8080/"
        },
        "id": "XSuFuioQvp0t",
        "outputId": "b109062d-b6f5-496d-8eb6-0039deb64c7c"
      },
      "execution_count": 51,
      "outputs": [
        {
          "output_type": "stream",
          "name": "stdout",
          "text": [
            "Decision Tree Classifier:\n",
            "Accuracy: 0.7086\n",
            "Precision: 0.7255\n",
            "Recall: 0.6205\n",
            "F1-score: 0.6689\n",
            "\n"
          ]
        }
      ]
    },
    {
      "cell_type": "markdown",
      "source": [
        "Random forest"
      ],
      "metadata": {
        "id": "lHZzdGykuH-t"
      }
    },
    {
      "cell_type": "code",
      "source": [
        "# code\n",
        "#Create a Random Forest Classifier\n",
        "rfc=RandomForestClassifier(n_estimators=100)\n",
        "#Train the model using the training sets\n",
        "rfc.fit(X_train,y_train)\n",
        "y_pred = rfc.predict(X_test)\n",
        "rfcsfac = round(accuracy_score(y_test, y_pred), 4)\n",
        "rfcsfpc = round(precision_score(y_test, y_pred), 4)\n",
        "rfcsfrc= round(recall_score(y_test, y_pred), 4)\n",
        "rfcsff= round(f1_score(y_test, y_pred), 4)\n",
        "print (\"Accuracy : \", rfcsfac) \n",
        "print (\"Precision : \", rfcsfpc) \n",
        "print (\"Recall score : \", rfcsfrc) \n",
        "print (\"F1 score : \", rfcsff)"
      ],
      "metadata": {
        "colab": {
          "base_uri": "https://localhost:8080/"
        },
        "id": "FnHILInXv4U5",
        "outputId": "b162a47d-57aa-473a-80a0-f67469ec83c5"
      },
      "execution_count": 52,
      "outputs": [
        {
          "output_type": "stream",
          "name": "stdout",
          "text": [
            "Accuracy :  0.7193\n",
            "Precision :  0.7215\n",
            "Recall score :  0.6652\n",
            "F1 score :  0.6922\n"
          ]
        }
      ]
    },
    {
      "cell_type": "markdown",
      "source": [
        "kNN"
      ],
      "metadata": {
        "id": "xSBZG_jNuH0H"
      }
    },
    {
      "cell_type": "code",
      "source": [
        "clf_knn = KNeighborsClassifier()\n",
        "clf_knn.fit(X_train, y_train)\n",
        "y_pred_knn = clf_knn.predict(X_test)\n",
        "knnsfac =round(accuracy_score(y_test, y_pred_knn), 4)\n",
        "knnsfpc =round(precision_score(y_test, y_pred_knn), 4)\n",
        "knnsfrc=round(recall_score(y_test, y_pred_knn), 4)\n",
        "knnsff=round(f1_score(y_test, y_pred_knn), 4)\n",
        "print('kNN Classifier:')\n",
        "print('Accuracy:', knnsfac)\n",
        "print('Precision:', knnsfpc)\n",
        "print('Recall:', knnsfrc)\n",
        "print('F1-score:', knnsff)\n",
        "print()"
      ],
      "metadata": {
        "colab": {
          "base_uri": "https://localhost:8080/"
        },
        "id": "CqP4_YAywCuU",
        "outputId": "878eb518-6718-42a3-ee94-cf06a03fbc80"
      },
      "execution_count": 53,
      "outputs": [
        {
          "output_type": "stream",
          "name": "stdout",
          "text": [
            "kNN Classifier:\n",
            "Accuracy: 0.7316\n",
            "Precision: 0.7315\n",
            "Recall: 0.686\n",
            "F1-score: 0.708\n",
            "\n"
          ]
        }
      ]
    },
    {
      "cell_type": "markdown",
      "source": [
        "NaïveBayes"
      ],
      "metadata": {
        "id": "YVoHXVyZuHoz"
      }
    },
    {
      "cell_type": "code",
      "source": [
        "model = GaussianNB()\n",
        "model.fit(X_train, y_train)\n",
        "y_pred = model.predict(X_test)\n",
        "gnbsfac = round(accuracy_score(y_test, y_pred), 4)\n",
        "gnbsfpc = round(precision_score(y_test, y_pred, average='micro'), 4)\n",
        "gnbsfrc= round(recall_score(y_test, y_pred, average='micro'), 4)\n",
        "gnbsff= round(f1_score(y_test, y_pred, average='micro'), 4)\n",
        "print (\"Accuracy : \", gnbsfac) \n",
        "print (\"Precision : \", gnbsfpc) \n",
        "print (\"Recall score : \", gnbsfrc) \n",
        "print (\"F1 score : \", gnbsff)"
      ],
      "metadata": {
        "colab": {
          "base_uri": "https://localhost:8080/"
        },
        "id": "0v1GvEzywK4y",
        "outputId": "4d497e1e-c7a6-4c3f-9803-aa3a5d500c8a"
      },
      "execution_count": 54,
      "outputs": [
        {
          "output_type": "stream",
          "name": "stdout",
          "text": [
            "Accuracy :  0.7071\n",
            "Precision :  0.7071\n",
            "Recall score :  0.7071\n",
            "F1 score :  0.7071\n"
          ]
        }
      ]
    },
    {
      "cell_type": "code",
      "source": [
        "table2 = PrettyTable()\n",
        "table2.field_names = [\"Classification algorithm\", \"Accuracy\", \"Precision\", \"Recall\", \"F2-score\"]\n",
        "table2.add_row([\"Decision tree\", dtsfac, dtsfpc, dtsfrc, dtsff])\n",
        "table2.add_row([\"Random forest\", rfcsfac, rfcsfpc, rfcsfrc, rfcsff])\n",
        "table2.add_row([\"kNN\",knnsfac, knnsfpc, knnsfrc, knnsff ])\n",
        "table2.add_row([\"NaïveBayes\",gnbsfac, gnbsfpc, gnbsfrc, gnbsff ])\n",
        "table2.title = 'Results using selection feature'\n",
        "print(table1)\n",
        "print(table2)"
      ],
      "metadata": {
        "colab": {
          "base_uri": "https://localhost:8080/"
        },
        "id": "vav2RAe3wTU2",
        "outputId": "7e81532c-671b-4bd1-828a-c3cb11213e1a"
      },
      "execution_count": 55,
      "outputs": [
        {
          "output_type": "stream",
          "name": "stdout",
          "text": [
            "+---------------------------------------------------------------------+\n",
            "|               Results without using selection feature               |\n",
            "+--------------------------+----------+-----------+--------+----------+\n",
            "| Classification algorithm | Accuracy | Precision | Recall | F1-score |\n",
            "+--------------------------+----------+-----------+--------+----------+\n",
            "|      Decision tree       |  0.728   |   0.7108  | 0.7193 |  0.715   |\n",
            "|      Random forest       |  0.7817  |   0.7671  | 0.7753 |  0.7712  |\n",
            "|           kNN            |  0.7325  |   0.7305  | 0.691  |  0.7102  |\n",
            "|        NaïveBayes        |  0.6632  |   0.6632  | 0.6632 |  0.6632  |\n",
            "+--------------------------+----------+-----------+--------+----------+\n",
            "+---------------------------------------------------------------------+\n",
            "|                   Results using selection feature                   |\n",
            "+--------------------------+----------+-----------+--------+----------+\n",
            "| Classification algorithm | Accuracy | Precision | Recall | F2-score |\n",
            "+--------------------------+----------+-----------+--------+----------+\n",
            "|      Decision tree       |  0.7086  |   0.7255  | 0.6205 |  0.6689  |\n",
            "|      Random forest       |  0.7193  |   0.7215  | 0.6652 |  0.6922  |\n",
            "|           kNN            |  0.7316  |   0.7315  | 0.686  |  0.708   |\n",
            "|        NaïveBayes        |  0.7071  |   0.7071  | 0.7071 |  0.7071  |\n",
            "+--------------------------+----------+-----------+--------+----------+\n"
          ]
        }
      ]
    },
    {
      "cell_type": "markdown",
      "source": [
        "#Task 4. \n",
        "For a given dataset in the Lab #5 (**credit card dataset**), perform feature selection and thencompare the performance of selected classification algorithms (Decision Tree, kNN, Logistic Regression, SVM, Random Forest and NaiveBayes) based on accuracy, precision, recall, f1 measures.\n"
      ],
      "metadata": {
        "id": "Z5pp7_h-aP2u"
      }
    },
    {
      "cell_type": "code",
      "source": [
        "# code\n",
        "from google.colab import drive\n",
        "drive.mount('/content/gdrive')\n",
        "%cd '/content/gdrive/MyDrive/ML_2023'\n",
        "data =pd.read_csv('creditcard.csv')\n",
        "# data.head()\n",
        "X = data.iloc[:, 1:-1]\n",
        "y = data.iloc[:, -1]\n",
        "print(X)\n",
        "print(y)\n"
      ],
      "metadata": {
        "id": "Rw_-8FIf2KxW",
        "colab": {
          "base_uri": "https://localhost:8080/"
        },
        "outputId": "a6028976-643c-4f53-c162-ed097c818474"
      },
      "execution_count": 91,
      "outputs": [
        {
          "output_type": "stream",
          "name": "stdout",
          "text": [
            "Drive already mounted at /content/gdrive; to attempt to forcibly remount, call drive.mount(\"/content/gdrive\", force_remount=True).\n",
            "/content/gdrive/MyDrive/ML_2023\n",
            "               V1         V2        V3        V4        V5        V6  \\\n",
            "0       -1.359807  -0.072781  2.536347  1.378155 -0.338321  0.462388   \n",
            "1        1.191857   0.266151  0.166480  0.448154  0.060018 -0.082361   \n",
            "2       -1.358354  -1.340163  1.773209  0.379780 -0.503198  1.800499   \n",
            "3       -0.966272  -0.185226  1.792993 -0.863291 -0.010309  1.247203   \n",
            "4       -1.158233   0.877737  1.548718  0.403034 -0.407193  0.095921   \n",
            "...           ...        ...       ...       ...       ...       ...   \n",
            "284802 -11.881118  10.071785 -9.834783 -2.066656 -5.364473 -2.606837   \n",
            "284803  -0.732789  -0.055080  2.035030 -0.738589  0.868229  1.058415   \n",
            "284804   1.919565  -0.301254 -3.249640 -0.557828  2.630515  3.031260   \n",
            "284805  -0.240440   0.530483  0.702510  0.689799 -0.377961  0.623708   \n",
            "284806  -0.533413  -0.189733  0.703337 -0.506271 -0.012546 -0.649617   \n",
            "\n",
            "              V7        V8        V9       V10  ...       V20       V21  \\\n",
            "0       0.239599  0.098698  0.363787  0.090794  ...  0.251412 -0.018307   \n",
            "1      -0.078803  0.085102 -0.255425 -0.166974  ... -0.069083 -0.225775   \n",
            "2       0.791461  0.247676 -1.514654  0.207643  ...  0.524980  0.247998   \n",
            "3       0.237609  0.377436 -1.387024 -0.054952  ... -0.208038 -0.108300   \n",
            "4       0.592941 -0.270533  0.817739  0.753074  ...  0.408542 -0.009431   \n",
            "...          ...       ...       ...       ...  ...       ...       ...   \n",
            "284802 -4.918215  7.305334  1.914428  4.356170  ...  1.475829  0.213454   \n",
            "284803  0.024330  0.294869  0.584800 -0.975926  ...  0.059616  0.214205   \n",
            "284804 -0.296827  0.708417  0.432454 -0.484782  ...  0.001396  0.232045   \n",
            "284805 -0.686180  0.679145  0.392087 -0.399126  ...  0.127434  0.265245   \n",
            "284806  1.577006 -0.414650  0.486180 -0.915427  ...  0.382948  0.261057   \n",
            "\n",
            "             V22       V23       V24       V25       V26       V27       V28  \\\n",
            "0       0.277838 -0.110474  0.066928  0.128539 -0.189115  0.133558 -0.021053   \n",
            "1      -0.638672  0.101288 -0.339846  0.167170  0.125895 -0.008983  0.014724   \n",
            "2       0.771679  0.909412 -0.689281 -0.327642 -0.139097 -0.055353 -0.059752   \n",
            "3       0.005274 -0.190321 -1.175575  0.647376 -0.221929  0.062723  0.061458   \n",
            "4       0.798278 -0.137458  0.141267 -0.206010  0.502292  0.219422  0.215153   \n",
            "...          ...       ...       ...       ...       ...       ...       ...   \n",
            "284802  0.111864  1.014480 -0.509348  1.436807  0.250034  0.943651  0.823731   \n",
            "284803  0.924384  0.012463 -1.016226 -0.606624 -0.395255  0.068472 -0.053527   \n",
            "284804  0.578229 -0.037501  0.640134  0.265745 -0.087371  0.004455 -0.026561   \n",
            "284805  0.800049 -0.163298  0.123205 -0.569159  0.546668  0.108821  0.104533   \n",
            "284806  0.643078  0.376777  0.008797 -0.473649 -0.818267 -0.002415  0.013649   \n",
            "\n",
            "        Amount  \n",
            "0       149.62  \n",
            "1         2.69  \n",
            "2       378.66  \n",
            "3       123.50  \n",
            "4        69.99  \n",
            "...        ...  \n",
            "284802    0.77  \n",
            "284803   24.79  \n",
            "284804   67.88  \n",
            "284805   10.00  \n",
            "284806  217.00  \n",
            "\n",
            "[284807 rows x 29 columns]\n",
            "0         0\n",
            "1         0\n",
            "2         0\n",
            "3         0\n",
            "4         0\n",
            "         ..\n",
            "284802    0\n",
            "284803    0\n",
            "284804    0\n",
            "284805    0\n",
            "284806    0\n",
            "Name: Class, Length: 284807, dtype: int64\n"
          ]
        }
      ]
    },
    {
      "cell_type": "code",
      "source": [
        "#code\n",
        "#Create a Random Forest Classifier\n",
        "clf=RandomForestClassifier(n_estimators=10)\n",
        "feature_names  = data.columns[0:-2]\n",
        "# imputer = SimpleImputer(missing_values= np.nan, strategy =\"median\")\n",
        "# imputer.fit(X)\n",
        "# X = imputer.transform(X)\n",
        "# imputer.fit([y])\n",
        "# y = imputer.transform([y])\n",
        "clf.fit(X,y)\n",
        "feature_imp = pd.Series(clf.feature_importances_,index=feature_names).sort_values(ascending=False)\n",
        "print(feature_imp)\n",
        "# draw chart\n",
        "%matplotlib inline\n",
        "# Creating a bar plot\n",
        "sns.barplot(x=feature_imp, y=feature_imp.index)\n",
        "# Add labels to your graph\n",
        "plt.xlabel('Feature Importance Score')\n",
        "plt.ylabel('Features')\n",
        "plt.title(\"Visualizing Important Features\")\n",
        "plt.legend()\n",
        "plt.show()\n",
        "\n",
        "features = feature_imp.index[0:7].values\n",
        "print(feature_imp.index[0:7].values)\n",
        "# features_index = data4.feature_names.index(feature_imp.index[0:7].values)\n",
        "X_new = data[feature_imp.index[0:7]]\n",
        "X_new\n",
        "# X_train, X_test, y_train, y_test = train_test_split(X_new, y, test_size=0.3, random_state=1)"
      ],
      "metadata": {
        "colab": {
          "base_uri": "https://localhost:8080/",
          "height": 1000
        },
        "id": "lX_BnmU534Pb",
        "outputId": "37bf1b4d-3afd-48d5-893e-3fb714b4a212"
      },
      "execution_count": 92,
      "outputs": [
        {
          "output_type": "stream",
          "name": "stderr",
          "text": [
            "WARNING:matplotlib.legend:No artists with labels found to put in legend.  Note that artists whose label start with an underscore are ignored when legend() is called with no argument.\n"
          ]
        },
        {
          "output_type": "stream",
          "name": "stdout",
          "text": [
            "V16     0.233431\n",
            "V13     0.185893\n",
            "V11     0.105125\n",
            "V15     0.061837\n",
            "V10     0.052959\n",
            "V3      0.044064\n",
            "V9      0.039262\n",
            "V2      0.019247\n",
            "V26     0.018847\n",
            "V25     0.018757\n",
            "V6      0.018226\n",
            "V4      0.017943\n",
            "V8      0.017466\n",
            "Time    0.016769\n",
            "V17     0.016115\n",
            "V12     0.013571\n",
            "V14     0.013571\n",
            "V20     0.012376\n",
            "V27     0.011311\n",
            "V19     0.010654\n",
            "V28     0.010647\n",
            "V18     0.010507\n",
            "V5      0.009161\n",
            "V7      0.009109\n",
            "V22     0.007051\n",
            "V1      0.006806\n",
            "V24     0.006626\n",
            "V21     0.006576\n",
            "V23     0.006091\n",
            "dtype: float64\n"
          ]
        },
        {
          "output_type": "display_data",
          "data": {
            "text/plain": [
              "<Figure size 432x288 with 1 Axes>"
            ],
            "image/png": "[encoded data removed]"
          },
          "metadata": {
            "needs_background": "light"
          }
        },
        {
          "output_type": "stream",
          "name": "stdout",
          "text": [
            "['V16' 'V13' 'V11' 'V15' 'V10' 'V3' 'V9']\n"
          ]
        },
        {
          "output_type": "execute_result",
          "data": {
            "text/plain": [
              "             V16       V13       V11       V15       V10        V3        V9\n",
              "0      -0.470401 -0.991390 -0.551600  1.468177  0.090794  2.536347  0.363787\n",
              "1       0.463917  0.489095  1.612727  0.635558 -0.166974  0.166480 -0.255425\n",
              "2      -2.890083  0.717293  0.624501  2.345865  0.207643  1.773209 -1.514654\n",
              "3      -1.059647  0.507757 -0.226487 -0.631418 -0.054952  1.792993 -1.387024\n",
              "4      -0.451449  1.345852 -0.822843  0.175121  0.753074  1.548718  0.817739\n",
              "...          ...       ...       ...       ...       ...       ...       ...\n",
              "284802  1.107641 -0.689256 -1.593105 -0.924459  4.356170 -9.834783  1.914428\n",
              "284803 -0.711757  1.214756 -0.150189  1.164931 -0.975926  2.035030  0.584800\n",
              "284804  0.140716 -0.183699  0.411614  1.329284 -0.484782 -3.249640  0.432454\n",
              "284805 -0.608577 -1.042082 -1.933849  1.962563 -0.399126  0.702510  0.392087\n",
              "284806 -0.302620 -0.188093 -1.040458  0.041333 -0.915427  0.703337  0.486180\n",
              "\n",
              "[284807 rows x 7 columns]"
            ],
            "text/html": [
              "\n",
              "  <div id=\"df-fb19ed26-0ba0-4a70-a06b-a1e1a9b75d09\">\n",
              "    <div class=\"colab-df-container\">\n",
              "      <div>\n",
              "<style scoped>\n",
              "    .dataframe tbody tr th:only-of-type {\n",
              "        vertical-align: middle;\n",
              "    }\n",
              "\n",
              "    .dataframe tbody tr th {\n",
              "        vertical-align: top;\n",
              "    }\n",
              "\n",
              "    .dataframe thead th {\n",
              "        text-align: right;\n",
              "    }\n",
              "</style>\n",
              "<table border=\"1\" class=\"dataframe\">\n",
              "  <thead>\n",
              "    <tr style=\"text-align: right;\">\n",
              "      <th></th>\n",
              "      <th>V16</th>\n",
              "      <th>V13</th>\n",
              "      <th>V11</th>\n",
              "      <th>V15</th>\n",
              "      <th>V10</th>\n",
              "      <th>V3</th>\n",
              "      <th>V9</th>\n",
              "    </tr>\n",
              "  </thead>\n",
              "  <tbody>\n",
              "    <tr>\n",
              "      <th>0</th>\n",
              "      <td>-0.470401</td>\n",
              "      <td>-0.991390</td>\n",
              "      <td>-0.551600</td>\n",
              "      <td>1.468177</td>\n",
              "      <td>0.090794</td>\n",
              "      <td>2.536347</td>\n",
              "      <td>0.363787</td>\n",
              "    </tr>\n",
              "    <tr>\n",
              "      <th>1</th>\n",
              "      <td>0.463917</td>\n",
              "      <td>0.489095</td>\n",
              "      <td>1.612727</td>\n",
              "      <td>0.635558</td>\n",
              "      <td>-0.166974</td>\n",
              "      <td>0.166480</td>\n",
              "      <td>-0.255425</td>\n",
              "    </tr>\n",
              "    <tr>\n",
              "      <th>2</th>\n",
              "      <td>-2.890083</td>\n",
              "      <td>0.717293</td>\n",
              "      <td>0.624501</td>\n",
              "      <td>2.345865</td>\n",
              "      <td>0.207643</td>\n",
              "      <td>1.773209</td>\n",
              "      <td>-1.514654</td>\n",
              "    </tr>\n",
              "    <tr>\n",
              "      <th>3</th>\n",
              "      <td>-1.059647</td>\n",
              "      <td>0.507757</td>\n",
              "      <td>-0.226487</td>\n",
              "      <td>-0.631418</td>\n",
              "      <td>-0.054952</td>\n",
              "      <td>1.792993</td>\n",
              "      <td>-1.387024</td>\n",
              "    </tr>\n",
              "    <tr>\n",
              "      <th>4</th>\n",
              "      <td>-0.451449</td>\n",
              "      <td>1.345852</td>\n",
              "      <td>-0.822843</td>\n",
              "      <td>0.175121</td>\n",
              "      <td>0.753074</td>\n",
              "      <td>1.548718</td>\n",
              "      <td>0.817739</td>\n",
              "    </tr>\n",
              "    <tr>\n",
              "      <th>...</th>\n",
              "      <td>...</td>\n",
              "      <td>...</td>\n",
              "      <td>...</td>\n",
              "      <td>...</td>\n",
              "      <td>...</td>\n",
              "      <td>...</td>\n",
              "      <td>...</td>\n",
              "    </tr>\n",
              "    <tr>\n",
              "      <th>284802</th>\n",
              "      <td>1.107641</td>\n",
              "      <td>-0.689256</td>\n",
              "      <td>-1.593105</td>\n",
              "      <td>-0.924459</td>\n",
              "      <td>4.356170</td>\n",
              "      <td>-9.834783</td>\n",
              "      <td>1.914428</td>\n",
              "    </tr>\n",
              "    <tr>\n",
              "      <th>284803</th>\n",
              "      <td>-0.711757</td>\n",
              "      <td>1.214756</td>\n",
              "      <td>-0.150189</td>\n",
              "      <td>1.164931</td>\n",
              "      <td>-0.975926</td>\n",
              "      <td>2.035030</td>\n",
              "      <td>0.584800</td>\n",
              "    </tr>\n",
              "    <tr>\n",
              "      <th>284804</th>\n",
              "      <td>0.140716</td>\n",
              "      <td>-0.183699</td>\n",
              "      <td>0.411614</td>\n",
              "      <td>1.329284</td>\n",
              "      <td>-0.484782</td>\n",
              "      <td>-3.249640</td>\n",
              "      <td>0.432454</td>\n",
              "    </tr>\n",
              "    <tr>\n",
              "      <th>284805</th>\n",
              "      <td>-0.608577</td>\n",
              "      <td>-1.042082</td>\n",
              "      <td>-1.933849</td>\n",
              "      <td>1.962563</td>\n",
              "      <td>-0.399126</td>\n",
              "      <td>0.702510</td>\n",
              "      <td>0.392087</td>\n",
              "    </tr>\n",
              "    <tr>\n",
              "      <th>284806</th>\n",
              "      <td>-0.302620</td>\n",
              "      <td>-0.188093</td>\n",
              "      <td>-1.040458</td>\n",
              "      <td>0.041333</td>\n",
              "      <td>-0.915427</td>\n",
              "      <td>0.703337</td>\n",
              "      <td>0.486180</td>\n",
              "    </tr>\n",
              "  </tbody>\n",
              "</table>\n",
              "<p>284807 rows × 7 columns</p>\n",
              "</div>\n",
              "      <button class=\"colab-df-convert\" onclick=\"convertToInteractive('df-fb19ed26-0ba0-4a70-a06b-a1e1a9b75d09')\"\n",
              "              title=\"Convert this dataframe to an interactive table.\"\n",
              "              style=\"display:none;\">\n",
              "        \n",
              "  <svg xmlns=\"http://www.w3.org/2000/svg\" height=\"24px\"viewBox=\"0 0 24 24\"\n",
              "       width=\"24px\">\n",
              "    <path d=\"M0 0h24v24H0V0z\" fill=\"none\"/>\n",
              "    <path d=\"M18.56 5.44l.94 2.06.94-2.06 2.06-.94-2.06-.94-.94-2.06-.94 2.06-2.06.94zm-11 1L8.5 8.5l.94-2.06 2.06-.94-2.06-.94L8.5 2.5l-.94 2.06-2.06.94zm10 10l.94 2.06.94-2.06 2.06-.94-2.06-.94-.94-2.06-.94 2.06-2.06.94z\"/><path d=\"M17.41 7.96l-1.37-1.37c-.4-.4-.92-.59-1.43-.59-.52 0-1.04.2-1.43.59L10.3 9.45l-7.72 7.72c-.78.78-.78 2.05 0 2.83L4 21.41c.39.39.9.59 1.41.59.51 0 1.02-.2 1.41-.59l7.78-7.78 2.81-2.81c.8-.78.8-2.07 0-2.86zM5.41 20L4 18.59l7.72-7.72 1.47 1.35L5.41 20z\"/>\n",
              "  </svg>\n",
              "      </button>\n",
              "      \n",
              "  <style>\n",
              "    .colab-df-container {\n",
              "      display:flex;\n",
              "      flex-wrap:wrap;\n",
              "      gap: 12px;\n",
              "    }\n",
              "\n",
              "    .colab-df-convert {\n",
              "      background-color: #E8F0FE;\n",
              "      border: none;\n",
              "      border-radius: 50%;\n",
              "      cursor: pointer;\n",
              "      display: none;\n",
              "      fill: #1967D2;\n",
              "      height: 32px;\n",
              "      padding: 0 0 0 0;\n",
              "      width: 32px;\n",
              "    }\n",
              "\n",
              "    .colab-df-convert:hover {\n",
              "      background-color: #E2EBFA;\n",
              "      box-shadow: 0px 1px 2px rgba(60, 64, 67, 0.3), 0px 1px 3px 1px rgba(60, 64, 67, 0.15);\n",
              "      fill: #174EA6;\n",
              "    }\n",
              "\n",
              "    [theme=dark] .colab-df-convert {\n",
              "      background-color: #3B4455;\n",
              "      fill: #D2E3FC;\n",
              "    }\n",
              "\n",
              "    [theme=dark] .colab-df-convert:hover {\n",
              "      background-color: #434B5C;\n",
              "      box-shadow: 0px 1px 3px 1px rgba(0, 0, 0, 0.15);\n",
              "      filter: drop-shadow(0px 1px 2px rgba(0, 0, 0, 0.3));\n",
              "      fill: #FFFFFF;\n",
              "    }\n",
              "  </style>\n",
              "\n",
              "      <script>\n",
              "        const buttonEl =\n",
              "          document.querySelector('#df-fb19ed26-0ba0-4a70-a06b-a1e1a9b75d09 button.colab-df-convert');\n",
              "        buttonEl.style.display =\n",
              "          google.colab.kernel.accessAllowed ? 'block' : 'none';\n",
              "\n",
              "        async function convertToInteractive(key) {\n",
              "          const element = document.querySelector('#df-fb19ed26-0ba0-4a70-a06b-a1e1a9b75d09');\n",
              "          const dataTable =\n",
              "            await google.colab.kernel.invokeFunction('convertToInteractive',\n",
              "                                                     [key], {});\n",
              "          if (!dataTable) return;\n",
              "\n",
              "          const docLinkHtml = 'Like what you see? Visit the ' +\n",
              "            '<a target=\"_blank\" href=https://colab.research.google.com/notebooks/data_table.ipynb>data table notebook</a>'\n",
              "            + ' to learn more about interactive tables.';\n",
              "          element.innerHTML = '';\n",
              "          dataTable['output_type'] = 'display_data';\n",
              "          await google.colab.output.renderOutput(dataTable, element);\n",
              "          const docLink = document.createElement('div');\n",
              "          docLink.innerHTML = docLinkHtml;\n",
              "          element.appendChild(docLink);\n",
              "        }\n",
              "      </script>\n",
              "    </div>\n",
              "  </div>\n",
              "  "
            ]
          },
          "metadata": {},
          "execution_count": 92
        }
      ]
    },
    {
      "cell_type": "markdown",
      "source": [
        "Decision Tree"
      ],
      "metadata": {
        "id": "n3E2wKfb4oFz"
      }
    },
    {
      "cell_type": "code",
      "source": [
        "X_train, X_test, y_train, y_test = train_test_split(X_new, y, test_size=0.3, random_state=1)\n",
        "clf_model = DecisionTreeClassifier()\n",
        "clf_model.fit(X_train,y_train)\n",
        "# tree.plot_tree(clf)\n",
        "y_pred_dt = clf_model.predict(X_test)\n",
        "print('Decision Tree Classifier:')\n",
        "dtac = round(accuracy_score(y_test, y_pred_dt), 2)\n",
        "dtpc = round(precision_score(y_test, y_pred_dt), 2)\n",
        "dtrc= round(recall_score(y_test, y_pred_dt), 2)\n",
        "dtf= round(f1_score(y_test, y_pred_dt), 2)\n",
        "print('Accuracy:', dtac)\n",
        "print('Precision:', dtpc)\n",
        "print('Recall:', dtrc)\n",
        "print('F1-score:', dtf)\n",
        "print()"
      ],
      "metadata": {
        "colab": {
          "base_uri": "https://localhost:8080/"
        },
        "id": "yOKnjMOH4niI",
        "outputId": "39258e1b-d22a-49ec-86b1-1f9ebdc2703a"
      },
      "execution_count": 94,
      "outputs": [
        {
          "output_type": "stream",
          "name": "stdout",
          "text": [
            "Decision Tree Classifier:\n",
            "Accuracy: 1.0\n",
            "Precision: 0.64\n",
            "Recall: 0.68\n",
            "F1-score: 0.66\n",
            "\n"
          ]
        }
      ]
    },
    {
      "cell_type": "markdown",
      "source": [
        "kNN"
      ],
      "metadata": {
        "id": "Cp7CuR874rRd"
      }
    },
    {
      "cell_type": "code",
      "source": [
        "clf_knn = KNeighborsClassifier()\n",
        "clf_knn.fit(X_train, y_train)\n",
        "y_pred_knn = clf_knn.predict(X_test)\n",
        "knnac =round(accuracy_score(y_test, y_pred_knn), 4)\n",
        "knnpc =round(precision_score(y_test, y_pred_knn), 4)\n",
        "knnrc=round(recall_score(y_test, y_pred_knn), 4)\n",
        "knnf=round(f1_score(y_test, y_pred_knn), 4)\n",
        "print('kNN Classifier:')\n",
        "print('Accuracy:', knnac)\n",
        "print('Precision:', knnpc)\n",
        "print('Recall:', knnrc)\n",
        "print('F1-score:', knnf)\n",
        "print()"
      ],
      "metadata": {
        "colab": {
          "base_uri": "https://localhost:8080/"
        },
        "id": "Bl2y_4nS5Neh",
        "outputId": "9dfc00fc-d600-4b63-843f-25cbae798fb5"
      },
      "execution_count": 95,
      "outputs": [
        {
          "output_type": "stream",
          "name": "stdout",
          "text": [
            "kNN Classifier:\n",
            "Accuracy: 0.9994\n",
            "Precision: 0.9143\n",
            "Recall: 0.7111\n",
            "F1-score: 0.8\n",
            "\n"
          ]
        }
      ]
    },
    {
      "cell_type": "markdown",
      "source": [
        "Logistic Regression"
      ],
      "metadata": {
        "id": "9M8Hs03-4vDu"
      }
    },
    {
      "cell_type": "code",
      "source": [
        "clf_lr = LogisticRegression()\n",
        "clf_lr.fit(X_train, y_train)\n",
        "y_pred_lr = clf_lr.predict(X_test)\n",
        "lrac = round(accuracy_score(y_test, y_pred_lr), 4)\n",
        "lrpc = round(precision_score(y_test, y_pred_lr), 4)\n",
        "lrrc= round(recall_score(y_test, y_pred_lr), 4)\n",
        "lrf= round(f1_score(y_test, y_pred_lr), 4)\n",
        "print('Logistic Regression Classifier:')\n",
        "print('Accuracy:', lrac)\n",
        "print('Precision:', lrpc)\n",
        "print('Recall:', lrrc)\n",
        "print('F1-score:', lrf)\n",
        "print()"
      ],
      "metadata": {
        "colab": {
          "base_uri": "https://localhost:8080/"
        },
        "id": "7DCWo1Ee5PX0",
        "outputId": "09f46869-a75f-4e3a-b045-5de54faba13b"
      },
      "execution_count": 96,
      "outputs": [
        {
          "output_type": "stream",
          "name": "stdout",
          "text": [
            "Logistic Regression Classifier:\n",
            "Accuracy: 0.999\n",
            "Precision: 0.8272\n",
            "Recall: 0.4963\n",
            "F1-score: 0.6204\n",
            "\n"
          ]
        }
      ]
    },
    {
      "cell_type": "markdown",
      "source": [
        "SVM"
      ],
      "metadata": {
        "id": "mgtYmo9K4y08"
      }
    },
    {
      "cell_type": "code",
      "source": [
        "clf = svm.SVC(degree=3)\n",
        "#Train the model using the training sets\n",
        "clf.fit(X_train, y_train)\n",
        "#Predict the response for test dataset\n",
        "y_pred = clf.predict(X_test)\n",
        "pkac = round(accuracy_score(y_test, y_pred), 4)\n",
        "pkpc = round(precision_score(y_test, y_pred), 4)\n",
        "pkrc= round(recall_score(y_test, y_pred), 4)\n",
        "pkf= round(f1_score(y_test, y_pred), 4)\n",
        "print (\"Accuracy : \", pkac) \n",
        "print (\"Precision : \", pkpc) \n",
        "print (\"Recall score : \", pkrc) \n",
        "print (\"F1 score : \", pkf)"
      ],
      "metadata": {
        "colab": {
          "base_uri": "https://localhost:8080/"
        },
        "id": "7-gMhwsz5RNC",
        "outputId": "ecf3bf01-c0d3-4162-e365-982081fe6b20"
      },
      "execution_count": 97,
      "outputs": [
        {
          "output_type": "stream",
          "name": "stdout",
          "text": [
            "Accuracy :  0.9994\n",
            "Precision :  0.9307\n",
            "Recall score :  0.6963\n",
            "F1 score :  0.7966\n"
          ]
        }
      ]
    },
    {
      "cell_type": "markdown",
      "source": [
        "Random Forest "
      ],
      "metadata": {
        "id": "-NXfEDlW42Jw"
      }
    },
    {
      "cell_type": "code",
      "source": [
        "# code\n",
        "#Create a Random Forest Classifier\n",
        "rfc=RandomForestClassifier(n_estimators=100)\n",
        "#Train the model using the training sets\n",
        "rfc.fit(X_train,y_train)\n",
        "y_pred = rfc.predict(X_test)\n",
        "rfcac = round(accuracy_score(y_test, y_pred), 4)\n",
        "rfcpc = round(precision_score(y_test, y_pred), 4)\n",
        "rfcrc= round(recall_score(y_test, y_pred), 4)\n",
        "rfcf= round(f1_score(y_test, y_pred), 4)\n",
        "print (\"Accuracy : \", rfcac) \n",
        "print (\"Precision : \", rfcpc) \n",
        "print (\"Recall score : \", rfcrc) \n",
        "print (\"F1 score : \", rfcf)"
      ],
      "metadata": {
        "colab": {
          "base_uri": "https://localhost:8080/"
        },
        "id": "iIZtOVMS5iG9",
        "outputId": "728f2883-62bb-4287-93db-59fe43fdc727"
      },
      "execution_count": 98,
      "outputs": [
        {
          "output_type": "stream",
          "name": "stdout",
          "text": [
            "Accuracy :  0.9994\n",
            "Precision :  0.8962\n",
            "Recall score :  0.7037\n",
            "F1 score :  0.7884\n"
          ]
        }
      ]
    },
    {
      "cell_type": "markdown",
      "source": [
        "NaiveBayes"
      ],
      "metadata": {
        "id": "0U6-gtci44uI"
      }
    },
    {
      "cell_type": "code",
      "source": [
        "model = GaussianNB()\n",
        "model.fit(X_train, y_train)\n",
        "y_pred = model.predict(X_test)\n",
        "gnbac = round(accuracy_score(y_test, y_pred), 4)\n",
        "gnbpc = round(precision_score(y_test, y_pred, average='micro'), 4)\n",
        "gnbrc= round(recall_score(y_test, y_pred, average='micro'), 4)\n",
        "gnbf= round(f1_score(y_test, y_pred, average='micro'), 4)\n",
        "print (\"Accuracy : \", gnbac) \n",
        "print (\"Precision : \", gnbpc) \n",
        "print (\"Recall score : \", gnbrc) \n",
        "print (\"F1 score : \", gnbf)"
      ],
      "metadata": {
        "colab": {
          "base_uri": "https://localhost:8080/"
        },
        "id": "R5K3VJG85nXJ",
        "outputId": "60d713f2-b44d-4d1c-b612-59d926ff97b6"
      },
      "execution_count": 99,
      "outputs": [
        {
          "output_type": "stream",
          "name": "stdout",
          "text": [
            "Accuracy :  0.9921\n",
            "Precision :  0.9921\n",
            "Recall score :  0.9921\n",
            "F1 score :  0.9921\n"
          ]
        }
      ]
    },
    {
      "cell_type": "code",
      "source": [
        "table_task4 = PrettyTable()\n",
        "table_task4.field_names = [\"Classification algorithm\", \"Accuracy\", \"Precision\", \"Recall\", \"F1-score\"]\n",
        "table_task4.add_row([\"Decision Tree\", dtac, dtpc, dtrc, dtf])\n",
        "table_task4.add_row([\"kNN\", knnac, knnpc, knnrc, knnf])\n",
        "table_task4.add_row([\"Logistic regression\", lrac, lrpc, lrrc, lrf])\n",
        "table_task4.add_row([\"SVM\", pkac, pkpc, pkrc, pkf])\n",
        "table_task4.add_row([\"Random Forest\", rfcac, rfcpc, rfcrc, rfcf])\n",
        "table_task4.add_row([\"NaiveBayes\", gnbac, gnbpc, gnbrc, gnbf])\n",
        "print(table_task4)"
      ],
      "metadata": {
        "colab": {
          "base_uri": "https://localhost:8080/"
        },
        "id": "RONB44655qI7",
        "outputId": "21399d37-4aa8-4ec2-a9fe-3c110a7b913e"
      },
      "execution_count": 100,
      "outputs": [
        {
          "output_type": "stream",
          "name": "stdout",
          "text": [
            "+--------------------------+----------+-----------+--------+----------+\n",
            "| Classification algorithm | Accuracy | Precision | Recall | F1-score |\n",
            "+--------------------------+----------+-----------+--------+----------+\n",
            "|      Decision Tree       |   1.0    |    0.64   |  0.68  |   0.66   |\n",
            "|           kNN            |  0.9994  |   0.9143  | 0.7111 |   0.8    |\n",
            "|   Logistic regression    |  0.999   |   0.8272  | 0.4963 |  0.6204  |\n",
            "|           SVM            |  0.9994  |   0.9307  | 0.6963 |  0.7966  |\n",
            "|      Random Forest       |  0.9994  |   0.8962  | 0.7037 |  0.7884  |\n",
            "|        NaiveBayes        |  0.9921  |   0.9921  | 0.9921 |  0.9921  |\n",
            "+--------------------------+----------+-----------+--------+----------+\n"
          ]
        }
      ]
    },
    {
      "cell_type": "markdown",
      "source": [
        "#Finally,\n",
        "Save a copy in your Github. Remember renaming the notebook."
      ],
      "metadata": {
        "id": "Ok7RGkea_b7n"
      }
    }
  ]
}