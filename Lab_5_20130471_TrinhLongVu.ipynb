{
  "nbformat": 4,
  "nbformat_minor": 0,
  "metadata": {
    "colab": {
      "provenance": [],
      "include_colab_link": true
    },
    "kernelspec": {
      "name": "python3",
      "display_name": "Python 3"
    },
    "language_info": {
      "name": "python"
    }
  },
  "cells": [
    {
      "cell_type": "markdown",
      "metadata": {
        "id": "view-in-github",
        "colab_type": "text"
      },
      "source": [
        "<a href=\"https://colab.research.google.com/github/trinhvu1711/ML_Semester2_2023/blob/main/Lab_5_20130471_TrinhLongVu.ipynb\" target=\"_parent\"><img src=\"https://colab.research.google.com/assets/colab-badge.svg\" alt=\"Open In Colab\"/></a>"
      ]
    },
    {
      "cell_type": "markdown",
      "source": [
        "# This lab is to deal with **SVM** to classification tasks and compare its performance with other competitive algorithms. In general, **SVM** is one of the most popular and widely used supervised machine learning algorithms.\n",
        "\n",
        "*   **Deadline: 23:59, 17/03/2023**\n",
        "\n"
      ],
      "metadata": {
        "id": "LMzehe0sy5wr"
      }
    },
    {
      "cell_type": "markdown",
      "source": [
        "# Import libraries"
      ],
      "metadata": {
        "id": "H4nJmxp9zGX4"
      }
    },
    {
      "cell_type": "code",
      "execution_count": 38,
      "metadata": {
        "id": "DoVWQ8AEyc-C"
      },
      "outputs": [],
      "source": [
        "# code\n",
        "import numpy as np\n",
        "import pandas as pd\n",
        "import matplotlib.pyplot as plt\n",
        "from sklearn import datasets\n",
        "from sklearn.linear_model import LogisticRegression\n",
        "from sklearn.model_selection import train_test_split\n",
        "from sklearn.metrics import confusion_matrix \n",
        "from sklearn.metrics import accuracy_score \n",
        "from sklearn.metrics import precision_score \n",
        "from sklearn.metrics import recall_score \n",
        "from sklearn.metrics import f1_score\n",
        "from sklearn.neighbors import KNeighborsClassifier\n",
        "from sklearn.tree import DecisionTreeClassifier\n",
        "#Import svm model\n",
        "from sklearn import svm"
      ]
    },
    {
      "cell_type": "markdown",
      "source": [
        "#Task 1. \n",
        "For breast cancer dataset (https://tinyurl.com/3vme8hr3) which could be loaded from datasets in sklearn as follows:\n",
        "\n",
        "```\n",
        "#Import scikit-learn dataset library\n",
        "from sklearn import datasets\n",
        "\n",
        "#Load dataset\n",
        "cancer = datasets.load_breast_cancer()\n",
        "```\n",
        "\n",
        "*   1.1.\tApply SVM algorithm to above dataset using linear kernel.\n",
        "*   1.2.\tCompare the obtained results with other competitive algorithms (Logistic Regression, Decision Tree, kNN) based on metrics: accuracy, precision, recall, f1 measures.\n",
        "\n"
      ],
      "metadata": {
        "id": "kNv07ARGzOUm"
      }
    },
    {
      "cell_type": "markdown",
      "source": [
        "SVM"
      ],
      "metadata": {
        "id": "eyjDX7BKsscV"
      }
    },
    {
      "cell_type": "code",
      "source": [
        "# code\n",
        "# Import scikit-learn dataset library\n",
        "\n",
        "# Load dataset\n",
        "cancer = datasets.load_breast_cancer()\n",
        "# print(cancer)\n",
        "Xtrain = cancer['data']\n",
        "ytrain = cancer['target']\n",
        "X_train, X_test, y_train, y_test = train_test_split(Xtrain, ytrain,train_size=0.8, test_size = 0.2, random_state = 1)\n",
        "#Create a svm Classifier\n",
        "clf = svm.SVC(kernel='linear') # Linear Kernel\n",
        "#Train the model using the training sets\n",
        "clf.fit(X_train, y_train)\n",
        "#Predict the response for test dataset\n",
        "y_pred = clf.predict(X_test)\n",
        "cm = confusion_matrix(y_test, y_pred) \n",
        "svmac = round(accuracy_score(y_test, y_pred), 2)\n",
        "svmpc = round(precision_score(y_test, y_pred), 2)\n",
        "svmrc= round(recall_score(y_test, y_pred), 2)\n",
        "svmf= round(f1_score(y_test, y_pred), 2)\n",
        "print(\"Confusion matrix : \",cm)\n",
        "print (\"Accuracy : \", svmac) \n",
        "print (\"Precision : \", svmpc) \n",
        "print (\"Recall score : \", svmrc) \n",
        "print (\"F1 score : \", svmf)"
      ],
      "metadata": {
        "id": "sOsg77IBzEyo",
        "colab": {
          "base_uri": "https://localhost:8080/"
        },
        "outputId": "62367d77-7a03-4d00-e572-53c3884c7275"
      },
      "execution_count": 39,
      "outputs": [
        {
          "output_type": "stream",
          "name": "stdout",
          "text": [
            "Confusion matrix :  [[37  5]\n",
            " [ 0 72]]\n",
            "Accuracy :  0.96\n",
            "Precision :  0.94\n",
            "Recall score :  1.0\n",
            "F1 score :  0.97\n"
          ]
        }
      ]
    },
    {
      "cell_type": "markdown",
      "source": [
        "kNN\n"
      ],
      "metadata": {
        "id": "flsM5GSVqK--"
      }
    },
    {
      "cell_type": "code",
      "source": [
        "clf_knn = KNeighborsClassifier()\n",
        "clf_knn.fit(X_train, y_train)\n",
        "y_pred_knn = clf_knn.predict(X_test)\n",
        "knnac =round(accuracy_score(y_test, y_pred_knn), 2)\n",
        "knnpc =round(precision_score(y_test, y_pred_knn), 2)\n",
        "knnrc=round(recall_score(y_test, y_pred_knn), 2)\n",
        "knnf=round(f1_score(y_test, y_pred_knn), 2)\n",
        "print('kNN Classifier:')\n",
        "print('Accuracy:', knnac)\n",
        "print('Precision:', knnpc)\n",
        "print('Recall:', knnrc)\n",
        "print('F1-score:', knnf)\n",
        "print()"
      ],
      "metadata": {
        "colab": {
          "base_uri": "https://localhost:8080/"
        },
        "id": "M3sYjwsfqAYt",
        "outputId": "d333ffde-1dbe-4e58-9134-528a05568367"
      },
      "execution_count": 40,
      "outputs": [
        {
          "output_type": "stream",
          "name": "stdout",
          "text": [
            "kNN Classifier:\n",
            "Accuracy: 0.94\n",
            "Precision: 0.93\n",
            "Recall: 0.97\n",
            "F1-score: 0.95\n",
            "\n"
          ]
        }
      ]
    },
    {
      "cell_type": "markdown",
      "source": [
        "Logistic Regression"
      ],
      "metadata": {
        "id": "U-H-UjIgqbTF"
      }
    },
    {
      "cell_type": "code",
      "source": [
        "clf_lr = LogisticRegression()\n",
        "clf_lr.fit(X_train, y_train)\n",
        "y_pred_lr = clf_lr.predict(X_test)\n",
        "lrac = round(accuracy_score(y_test, y_pred_lr), 2)\n",
        "lrpc = round(precision_score(y_test, y_pred_lr), 2)\n",
        "lrrc= round(recall_score(y_test, y_pred_lr), 2)\n",
        "lrf= round(f1_score(y_test, y_pred_lr), 2)\n",
        "print('Logistic Regression Classifier:')\n",
        "print('Accuracy:', lrac)\n",
        "print('Precision:', lrpc)\n",
        "print('Recall:', lrrc)\n",
        "print('F1-score:', lrf)\n",
        "print()"
      ],
      "metadata": {
        "colab": {
          "base_uri": "https://localhost:8080/"
        },
        "id": "ZHjpRaZWqabV",
        "outputId": "ffd176b1-eb5e-4fbd-ebc1-19b5271fec96"
      },
      "execution_count": 41,
      "outputs": [
        {
          "output_type": "stream",
          "name": "stdout",
          "text": [
            "Logistic Regression Classifier:\n",
            "Accuracy: 0.95\n",
            "Precision: 0.95\n",
            "Recall: 0.97\n",
            "F1-score: 0.96\n",
            "\n"
          ]
        },
        {
          "output_type": "stream",
          "name": "stderr",
          "text": [
            "/usr/local/lib/python3.9/dist-packages/sklearn/linear_model/_logistic.py:458: ConvergenceWarning: lbfgs failed to converge (status=1):\n",
            "STOP: TOTAL NO. of ITERATIONS REACHED LIMIT.\n",
            "\n",
            "Increase the number of iterations (max_iter) or scale the data as shown in:\n",
            "    https://scikit-learn.org/stable/modules/preprocessing.html\n",
            "Please also refer to the documentation for alternative solver options:\n",
            "    https://scikit-learn.org/stable/modules/linear_model.html#logistic-regression\n",
            "  n_iter_i = _check_optimize_result(\n"
          ]
        }
      ]
    },
    {
      "cell_type": "markdown",
      "source": [
        "decision tree\n"
      ],
      "metadata": {
        "id": "i2vNKMPJqrMd"
      }
    },
    {
      "cell_type": "code",
      "source": [
        "clf_model = DecisionTreeClassifier()\n",
        "clf_model.fit(X_train,y_train)\n",
        "# tree.plot_tree(clf)\n",
        "y_pred_dt = clf_model.predict(X_test)\n",
        "accuracy = accuracy_score(y_test, y_pred)\n",
        "print('Decision Tree Classifier:')\n",
        "dtac = round(accuracy_score(y_test, y_pred_dt), 2)\n",
        "dtpc = round(precision_score(y_test, y_pred_dt), 2)\n",
        "dtrc= round(recall_score(y_test, y_pred_dt), 2)\n",
        "dtf= round(f1_score(y_test, y_pred_dt), 2)\n",
        "print('Accuracy:', dtac)\n",
        "print('Precision:', dtpc)\n",
        "print('Recall:', dtrc)\n",
        "print('F1-score:', dtf)\n",
        "print()"
      ],
      "metadata": {
        "colab": {
          "base_uri": "https://localhost:8080/"
        },
        "id": "wLAEb4KKqte1",
        "outputId": "577865b4-563c-453e-c1ef-d52708dbd5be"
      },
      "execution_count": 42,
      "outputs": [
        {
          "output_type": "stream",
          "name": "stdout",
          "text": [
            "Decision Tree Classifier:\n",
            "Accuracy: 0.96\n",
            "Precision: 0.96\n",
            "Recall: 0.97\n",
            "F1-score: 0.97\n",
            "\n"
          ]
        }
      ]
    },
    {
      "cell_type": "code",
      "source": [
        "from prettytable import PrettyTable\n",
        "table = PrettyTable()\n",
        "table.field_names = [\"Classification algorithm\", \"Accuracy\", \"Precision\", \"Recall\", \"F1-score\"]\n",
        "table.add_row([\"Decision Tree\", dtac, dtpc, dtrc, dtf])\n",
        "table.add_row([\"kNN\", knnac, knnpc, knnrc, knnf])\n",
        "table.add_row([\"Logistic regression\", lrac, lrpc, lrrc, lrf])\n",
        "table.add_row([\"SVM\",svmac, svmpc, svmrc, svmf ])\n",
        "print(table)"
      ],
      "metadata": {
        "colab": {
          "base_uri": "https://localhost:8080/"
        },
        "id": "JeJUTrB9p7uF",
        "outputId": "bda4838d-f2d3-410a-db7f-0743f66caf7e"
      },
      "execution_count": 43,
      "outputs": [
        {
          "output_type": "stream",
          "name": "stdout",
          "text": [
            "+--------------------------+----------+-----------+--------+----------+\n",
            "| Classification algorithm | Accuracy | Precision | Recall | F1-score |\n",
            "+--------------------------+----------+-----------+--------+----------+\n",
            "|      Decision Tree       |   0.96   |    0.96   |  0.97  |   0.97   |\n",
            "|           kNN            |   0.94   |    0.93   |  0.97  |   0.95   |\n",
            "|   Logistic regression    |   0.95   |    0.95   |  0.97  |   0.96   |\n",
            "|           SVM            |   0.96   |    0.94   |  1.0   |   0.97   |\n",
            "+--------------------------+----------+-----------+--------+----------+\n"
          ]
        }
      ]
    },
    {
      "cell_type": "markdown",
      "source": [
        "#Task 2. \n",
        "\n",
        "*   1.1.\tPerform SVM algorithm to **Iris dataset** using **linear kernel**.\n",
        "*   1.2.\tCompare the obtained results in 1.1 with SVM using other kernels (**Polynomial Kernel, Gaussian Kernel, Sigmoid Kernel, Radial Basis Function Kernel**). Some metrics could be used: accuracy, precision, recall, f1 measures\n",
        "\n",
        "\n",
        "\n"
      ],
      "metadata": {
        "id": "S43IoUT-0OQq"
      }
    },
    {
      "cell_type": "markdown",
      "source": [
        "Polynomial Kernel"
      ],
      "metadata": {
        "id": "KY6m1RhstO_F"
      }
    },
    {
      "cell_type": "code",
      "source": [
        "# code\n",
        "data4 = datasets.load_iris()\n",
        "X_train = data4['data']\n",
        "y_train = data4['target']\n",
        "X_train, X_test, y_train, y_test = train_test_split(Xtrain, ytrain, test_size = 0.6, random_state = 0)\n",
        "#Create a svm Classifier\n",
        "clf = svm.SVC(kernel='poly', degree=3)\n",
        "#Train the model using the training sets\n",
        "clf.fit(X_train, y_train)\n",
        "#Predict the response for test dataset\n",
        "y_pred = clf.predict(X_test)\n",
        "pkac = round(accuracy_score(y_test, y_pred), 2)\n",
        "pkpc = round(precision_score(y_test, y_pred,average='micro'), 2)\n",
        "pkrc= round(recall_score(y_test, y_pred,average='micro'), 2)\n",
        "pkf= round(f1_score(y_test, y_pred,average='micro'), 2)\n",
        "print(\"Confusion matrix : \",cm)\n",
        "print (\"Accuracy : \", pkac) \n",
        "print (\"Precision : \", pkpc) \n",
        "print (\"Recall score : \", pkrc) \n",
        "print (\"F1 score : \", pkf)\n"
      ],
      "metadata": {
        "id": "_xhPpF5b033h",
        "colab": {
          "base_uri": "https://localhost:8080/"
        },
        "outputId": "4686e39e-76a5-437f-dd61-2d2239326d50"
      },
      "execution_count": 44,
      "outputs": [
        {
          "output_type": "stream",
          "name": "stdout",
          "text": [
            "Confusion matrix :  [[37  5]\n",
            " [ 0 72]]\n",
            "Accuracy :  0.9\n",
            "Precision :  0.9\n",
            "Recall score :  0.9\n",
            "F1 score :  0.9\n"
          ]
        }
      ]
    },
    {
      "cell_type": "markdown",
      "source": [
        "Radial Basis Function Kernel"
      ],
      "metadata": {
        "id": "LYXQwKSEtQpl"
      }
    },
    {
      "cell_type": "code",
      "source": [
        "#Create a svm Classifier\n",
        "clf = svm.SVC(kernel='rbf')\n",
        "#Train the model using the training sets\n",
        "clf.fit(X_train, y_train)\n",
        "#Predict the response for test dataset\n",
        "y_pred = clf.predict(X_test)\n",
        "rbfac = round(accuracy_score(y_test, y_pred), 2)\n",
        "rbfpc = round(precision_score(y_test, y_pred,average='micro'), 2)\n",
        "rbfrc= round(recall_score(y_test, y_pred,average='micro'), 2)\n",
        "rbff= round(f1_score(y_test, y_pred,average='micro'), 2)\n",
        "print(\"Confusion matrix : \",cm)\n",
        "print (\"Accuracy : \", rbfac) \n",
        "print (\"Precision : \", rbfpc) \n",
        "print (\"Recall score : \", rbfrc) \n",
        "print (\"F1 score : \", rbff)"
      ],
      "metadata": {
        "colab": {
          "base_uri": "https://localhost:8080/"
        },
        "id": "OEfTQeJTtSbl",
        "outputId": "43886a30-38f5-40e4-b34b-06be189307b1"
      },
      "execution_count": 45,
      "outputs": [
        {
          "output_type": "stream",
          "name": "stdout",
          "text": [
            "Confusion matrix :  [[37  5]\n",
            " [ 0 72]]\n",
            "Accuracy :  0.91\n",
            "Precision :  0.91\n",
            "Recall score :  0.91\n",
            "F1 score :  0.91\n"
          ]
        }
      ]
    },
    {
      "cell_type": "markdown",
      "source": [
        "Sigmoid Kernel"
      ],
      "metadata": {
        "id": "YY-0uACOvGNe"
      }
    },
    {
      "cell_type": "code",
      "source": [
        "# Create a svm Classifier\n",
        "clf = svm.SVC(kernel='sigmoid')\n",
        "#Train the model using the training sets\n",
        "clf.fit(X_train, y_train)\n",
        "#Predict the response for test dataset\n",
        "y_pred = clf.predict(X_test)\n",
        "skac = round(accuracy_score(y_test, y_pred), 2)\n",
        "skpc = round(precision_score(y_test, y_pred,average='micro'), 2)\n",
        "skrc= round(recall_score(y_test, y_pred,average='micro'), 2)\n",
        "skf= round(f1_score(y_test, y_pred,average='micro'), 2)\n",
        "print(\"Confusion matrix : \",cm)\n",
        "print (\"Accuracy : \", skac) \n",
        "print (\"Precision : \", skpc) \n",
        "print (\"Recall score : \", skrc) \n",
        "print (\"F1 score : \", skf)"
      ],
      "metadata": {
        "colab": {
          "base_uri": "https://localhost:8080/"
        },
        "id": "wznFN7NMvIVu",
        "outputId": "06ab13fc-b115-4a8f-ac4c-9e402b296975"
      },
      "execution_count": 46,
      "outputs": [
        {
          "output_type": "stream",
          "name": "stdout",
          "text": [
            "Confusion matrix :  [[37  5]\n",
            " [ 0 72]]\n",
            "Accuracy :  0.49\n",
            "Precision :  0.49\n",
            "Recall score :  0.49\n",
            "F1 score :  0.49\n"
          ]
        }
      ]
    },
    {
      "cell_type": "code",
      "source": [
        "table = PrettyTable()\n",
        "table.field_names = [\"Classification algorithm\", \"Accuracy\", \"Precision\", \"Recall\", \"F1-score\"]\n",
        "table.add_row([\"Polynomial Kernel\", pkac, pkpc, pkrc, pkf])\n",
        "table.add_row([\"Radial Basis Function Kernel\", rbfac, rbfpc, rbfrc, rbff])\n",
        "table.add_row([\"Sigmoid Kernel\", skac, skpc, skrc, skf])\n",
        "print(table)"
      ],
      "metadata": {
        "colab": {
          "base_uri": "https://localhost:8080/"
        },
        "id": "IkoYxBMewoje",
        "outputId": "92f7b23c-b8ab-402c-dd7b-8f2ef751eb29"
      },
      "execution_count": 47,
      "outputs": [
        {
          "output_type": "stream",
          "name": "stdout",
          "text": [
            "+------------------------------+----------+-----------+--------+----------+\n",
            "|   Classification algorithm   | Accuracy | Precision | Recall | F1-score |\n",
            "+------------------------------+----------+-----------+--------+----------+\n",
            "|      Polynomial Kernel       |   0.9    |    0.9    |  0.9   |   0.9    |\n",
            "| Radial Basis Function Kernel |   0.91   |    0.91   |  0.91  |   0.91   |\n",
            "|        Sigmoid Kernel        |   0.49   |    0.49   |  0.49  |   0.49   |\n",
            "+------------------------------+----------+-----------+--------+----------+\n"
          ]
        }
      ]
    },
    {
      "cell_type": "markdown",
      "source": [
        "#Task 3. \n",
        "Compare the performance of selected classification algorithms (Decision Tree, kNN, Logistic Regression) and SVM (using different kernels) with mnist dataset based on accuracy, precision, recall, f1 measures.\n"
      ],
      "metadata": {
        "id": "b52OPWPD2afi"
      }
    },
    {
      "cell_type": "code",
      "source": [
        "data4 = datasets.load_digits()\n",
        "X_train = data4['data']\n",
        "y_train = data4['target']\n",
        "X_train, X_test, y_train, y_test = train_test_split(X_train, y_train, test_size = 0.3, random_state = 10)\n",
        "print(y_train)"
      ],
      "metadata": {
        "colab": {
          "base_uri": "https://localhost:8080/"
        },
        "id": "PuU4gfinxNBG",
        "outputId": "1919d6da-3b5a-4b0a-bec2-c430435d5bcb"
      },
      "execution_count": 48,
      "outputs": [
        {
          "output_type": "stream",
          "name": "stdout",
          "text": [
            "[0 0 0 ... 1 8 2]\n"
          ]
        }
      ]
    },
    {
      "cell_type": "markdown",
      "source": [
        "Decision Tree"
      ],
      "metadata": {
        "id": "grRzAUkjxKPW"
      }
    },
    {
      "cell_type": "code",
      "source": [
        "clf_model = DecisionTreeClassifier()\n",
        "clf_model.fit(X_train,y_train)\n",
        "# tree.plot_tree(clf)\n",
        "y_pred_dt = clf_model.predict(X_test)\n",
        "accuracy = accuracy_score(y_test, y_pred_dt)\n",
        "print('Decision Tree Classifier:')\n",
        "dtac = round(accuracy_score(y_test, y_pred_dt), 2)\n",
        "dtpc = round(precision_score(y_test, y_pred_dt, average='micro'), 2)\n",
        "dtrc= round(recall_score(y_test, y_pred_dt, average='micro'), 2)\n",
        "dtf= round(f1_score(y_test, y_pred_dt, average='micro'), 2)\n",
        "print('Accuracy:', dtac)\n",
        "print('Precision:', dtpc)\n",
        "print('Recall:', dtrc)\n",
        "print('F1-score:', dtf)\n",
        "print()"
      ],
      "metadata": {
        "colab": {
          "base_uri": "https://localhost:8080/"
        },
        "id": "nl4KnkpVxJYv",
        "outputId": "be3b860f-f22b-4edb-a4b6-73406e6b4f4d"
      },
      "execution_count": 49,
      "outputs": [
        {
          "output_type": "stream",
          "name": "stdout",
          "text": [
            "Decision Tree Classifier:\n",
            "Accuracy: 0.83\n",
            "Precision: 0.83\n",
            "Recall: 0.83\n",
            "F1-score: 0.83\n",
            "\n"
          ]
        }
      ]
    },
    {
      "cell_type": "markdown",
      "source": [
        "kNN"
      ],
      "metadata": {
        "id": "QlNXSdrWyCwW"
      }
    },
    {
      "cell_type": "code",
      "source": [
        "clf_knn = KNeighborsClassifier()\n",
        "clf_knn.fit(X_train, y_train)\n",
        "y_pred_knn = clf_knn.predict(X_test)\n",
        "knnac =round(accuracy_score(y_test, y_pred_knn), 2)\n",
        "knnpc =round(precision_score(y_test, y_pred_knn, average='micro'), 2)\n",
        "knnrc=round(recall_score(y_test, y_pred_knn, average='micro'), 2)\n",
        "knnf=round(f1_score(y_test, y_pred_knn, average='micro'), 2)\n",
        "print('kNN Classifier:')\n",
        "print('Accuracy:', knnac)\n",
        "print('Precision:', knnpc)\n",
        "print('Recall:', knnrc)\n",
        "print('F1-score:', knnf)\n",
        "print()"
      ],
      "metadata": {
        "colab": {
          "base_uri": "https://localhost:8080/"
        },
        "id": "YiG6oU2Iytuf",
        "outputId": "636d79a8-60e3-4320-9c1f-54979c1653d2"
      },
      "execution_count": 50,
      "outputs": [
        {
          "output_type": "stream",
          "name": "stdout",
          "text": [
            "kNN Classifier:\n",
            "Accuracy: 0.99\n",
            "Precision: 0.99\n",
            "Recall: 0.99\n",
            "F1-score: 0.99\n",
            "\n"
          ]
        }
      ]
    },
    {
      "cell_type": "markdown",
      "source": [
        "Logistic Regression"
      ],
      "metadata": {
        "id": "SLtpJ6YhyDv4"
      }
    },
    {
      "cell_type": "code",
      "source": [
        "clf_lr = LogisticRegression()\n",
        "clf_lr.fit(X_train, y_train)\n",
        "y_pred_lr = clf_lr.predict(X_test)\n",
        "lrac = round(accuracy_score(y_test, y_pred_lr), 2)\n",
        "lrpc = round(precision_score(y_test, y_pred_lr, average='micro'), 2)\n",
        "lrrc= round(recall_score(y_test, y_pred_lr, average='micro'), 2)\n",
        "lrf= round(f1_score(y_test, y_pred_lr, average='micro'), 2)\n",
        "print('Logistic Regression Classifier:')\n",
        "print('Accuracy:', lrac)\n",
        "print('Precision:', lrpc)\n",
        "print('Recall:', lrrc)\n",
        "print('F1-score:', lrf)\n",
        "print()"
      ],
      "metadata": {
        "colab": {
          "base_uri": "https://localhost:8080/"
        },
        "id": "g33Cj0dUyxX-",
        "outputId": "06d12781-650e-4329-b516-59a64e0c6ae2"
      },
      "execution_count": 51,
      "outputs": [
        {
          "output_type": "stream",
          "name": "stdout",
          "text": [
            "Logistic Regression Classifier:\n",
            "Accuracy: 0.96\n",
            "Precision: 0.96\n",
            "Recall: 0.96\n",
            "F1-score: 0.96\n",
            "\n"
          ]
        },
        {
          "output_type": "stream",
          "name": "stderr",
          "text": [
            "/usr/local/lib/python3.9/dist-packages/sklearn/linear_model/_logistic.py:458: ConvergenceWarning: lbfgs failed to converge (status=1):\n",
            "STOP: TOTAL NO. of ITERATIONS REACHED LIMIT.\n",
            "\n",
            "Increase the number of iterations (max_iter) or scale the data as shown in:\n",
            "    https://scikit-learn.org/stable/modules/preprocessing.html\n",
            "Please also refer to the documentation for alternative solver options:\n",
            "    https://scikit-learn.org/stable/modules/linear_model.html#logistic-regression\n",
            "  n_iter_i = _check_optimize_result(\n"
          ]
        }
      ]
    },
    {
      "cell_type": "markdown",
      "source": [
        "SVM Polynomial Kernel"
      ],
      "metadata": {
        "id": "4EdvQ7jvycnm"
      }
    },
    {
      "cell_type": "code",
      "source": [
        "# code\n",
        "#Create a svm Classifier\n",
        "clf = svm.SVC(kernel='poly', degree=3)\n",
        "#Train the model using the training sets\n",
        "clf.fit(X_train, y_train)\n",
        "#Predict the response for test dataset\n",
        "y_pred = clf.predict(X_test)\n",
        "pkac = round(accuracy_score(y_test, y_pred), 2)\n",
        "pkpc = round(precision_score(y_test, y_pred,average='micro'), 2)\n",
        "pkrc= round(recall_score(y_test, y_pred,average='micro'), 2)\n",
        "pkf= round(f1_score(y_test, y_pred,average='micro'), 2)\n",
        "print (\"Accuracy : \", pkac) \n",
        "print (\"Precision : \", pkpc) \n",
        "print (\"Recall score : \", pkrc) \n",
        "print (\"F1 score : \", pkf)"
      ],
      "metadata": {
        "colab": {
          "base_uri": "https://localhost:8080/"
        },
        "id": "VUnJUiBfzI-H",
        "outputId": "7c19bbb1-9635-4379-f374-0be4df9438d7"
      },
      "execution_count": 52,
      "outputs": [
        {
          "output_type": "stream",
          "name": "stdout",
          "text": [
            "Accuracy :  0.98\n",
            "Precision :  0.98\n",
            "Recall score :  0.98\n",
            "F1 score :  0.98\n"
          ]
        }
      ]
    },
    {
      "cell_type": "markdown",
      "source": [
        "SVM Radial Basis Function Kernel"
      ],
      "metadata": {
        "id": "POJke6Gtyh8O"
      }
    },
    {
      "cell_type": "code",
      "source": [
        "#Create a svm Classifier\n",
        "clf = svm.SVC(kernel='rbf')\n",
        "#Train the model using the training sets\n",
        "clf.fit(X_train, y_train)\n",
        "#Predict the response for test dataset\n",
        "y_pred = clf.predict(X_test)\n",
        "rbfac = round(accuracy_score(y_test, y_pred), 2)\n",
        "rbfpc = round(precision_score(y_test, y_pred,average='micro'), 2)\n",
        "rbfrc= round(recall_score(y_test, y_pred,average='micro'), 2)\n",
        "rbff= round(f1_score(y_test, y_pred,average='micro'), 2)\n",
        "print (\"Accuracy : \", rbfac) \n",
        "print (\"Precision : \", rbfpc) \n",
        "print (\"Recall score : \", rbfrc) \n",
        "print (\"F1 score : \", rbff)"
      ],
      "metadata": {
        "colab": {
          "base_uri": "https://localhost:8080/"
        },
        "id": "V3l630vtzSKn",
        "outputId": "0a1a8c00-e64e-497f-ead6-45242c54c5f6"
      },
      "execution_count": 53,
      "outputs": [
        {
          "output_type": "stream",
          "name": "stdout",
          "text": [
            "Accuracy :  0.98\n",
            "Precision :  0.98\n",
            "Recall score :  0.98\n",
            "F1 score :  0.98\n"
          ]
        }
      ]
    },
    {
      "cell_type": "markdown",
      "source": [
        "SVM Sigmoid Kernel"
      ],
      "metadata": {
        "id": "l4IB3Fi2ymaO"
      }
    },
    {
      "cell_type": "code",
      "source": [
        "# Create a svm Classifier\n",
        "clf = svm.SVC(kernel='sigmoid')\n",
        "#Train the model using the training sets\n",
        "clf.fit(X_train, y_train)\n",
        "#Predict the response for test dataset\n",
        "y_pred = clf.predict(X_test)\n",
        "skac = round(accuracy_score(y_test, y_pred), 2)\n",
        "skpc = round(precision_score(y_test, y_pred,average='micro'), 2)\n",
        "skrc= round(recall_score(y_test, y_pred,average='micro'), 2)\n",
        "skf= round(f1_score(y_test, y_pred,average='micro'), 2)\n",
        "print (\"Accuracy : \", skac) \n",
        "print (\"Precision : \", skpc) \n",
        "print (\"Recall score : \", skrc) \n",
        "print (\"F1 score : \", skf)"
      ],
      "metadata": {
        "colab": {
          "base_uri": "https://localhost:8080/"
        },
        "id": "8X_zvKaJzfne",
        "outputId": "0ea02f66-d685-42fa-bf39-c6dd1f1fe854"
      },
      "execution_count": 54,
      "outputs": [
        {
          "output_type": "stream",
          "name": "stdout",
          "text": [
            "Accuracy :  0.91\n",
            "Precision :  0.91\n",
            "Recall score :  0.91\n",
            "F1 score :  0.91\n"
          ]
        }
      ]
    },
    {
      "cell_type": "code",
      "source": [
        "from prettytable import PrettyTable\n",
        "table = PrettyTable()\n",
        "table.field_names = [\"Classification algorithm\", \"Accuracy\", \"Precision\", \"Recall\", \"F1-score\"]\n",
        "table.add_row([\"Decision Tree\", dtac, dtpc, dtrc, dtf])\n",
        "table.add_row([\"kNN\", knnac, knnpc, knnrc, knnf])\n",
        "table.add_row([\"Logistic regression\", lrac, lrpc, lrrc, lrf])\n",
        "table.add_row([\"Polynomial Kernel\", pkac, pkpc, pkrc, pkf])\n",
        "table.add_row([\"Radial Basis Function Kernel\", rbfac, rbfpc, rbfrc, rbff])\n",
        "table.add_row([\"Sigmoid Kernel\", skac, skpc, skrc, skf])\n",
        "print(table)"
      ],
      "metadata": {
        "colab": {
          "base_uri": "https://localhost:8080/"
        },
        "id": "WDlc6F-rzhh-",
        "outputId": "aa80b9f1-36d1-408c-cb40-85bb05e1d7ec"
      },
      "execution_count": 55,
      "outputs": [
        {
          "output_type": "stream",
          "name": "stdout",
          "text": [
            "+------------------------------+----------+-----------+--------+----------+\n",
            "|   Classification algorithm   | Accuracy | Precision | Recall | F1-score |\n",
            "+------------------------------+----------+-----------+--------+----------+\n",
            "|        Decision Tree         |   0.83   |    0.83   |  0.83  |   0.83   |\n",
            "|             kNN              |   0.99   |    0.99   |  0.99  |   0.99   |\n",
            "|     Logistic regression      |   0.96   |    0.96   |  0.96  |   0.96   |\n",
            "|      Polynomial Kernel       |   0.98   |    0.98   |  0.98  |   0.98   |\n",
            "| Radial Basis Function Kernel |   0.98   |    0.98   |  0.98  |   0.98   |\n",
            "|        Sigmoid Kernel        |   0.91   |    0.91   |  0.91  |   0.91   |\n",
            "+------------------------------+----------+-----------+--------+----------+\n"
          ]
        }
      ]
    },
    {
      "cell_type": "markdown",
      "source": [
        "#Task 4. \n",
        "Compare the performance of selected classification algorithms (Decision Tree, kNN, Logistic Regression) and SVM (using different kernels) with **credit card dataset** based on accuracy, precision, recall, f1 measures.\n",
        "\n",
        "*   Give some comments on the obtained results\n",
        "*   Identify issues with dataset, and propose the solutions to these issues\n",
        "\n"
      ],
      "metadata": {
        "id": "Z5pp7_h-aP2u"
      }
    },
    {
      "cell_type": "code",
      "source": [
        "# code\n",
        "data =pd.read_csv('creditcard.csv')\n",
        "data.head()\n",
        "X_train = data.iloc[1:50000, 1:-1]\n",
        "y_train = data.iloc[1:50000, -1]\n",
        "# print(X_train)\n",
        "print(y_train)\n",
        "X_train, X_test, y_train, y_test = train_test_split(X_train, y_train, test_size = 0.3, random_state = 10)"
      ],
      "metadata": {
        "id": "Rw_-8FIf2KxW",
        "colab": {
          "base_uri": "https://localhost:8080/"
        },
        "outputId": "cd4d1694-e65a-4434-c578-b2a8716cf07c"
      },
      "execution_count": 56,
      "outputs": [
        {
          "output_type": "stream",
          "name": "stdout",
          "text": [
            "1        0\n",
            "2        0\n",
            "3        0\n",
            "4        0\n",
            "5        0\n",
            "        ..\n",
            "49995    0\n",
            "49996    0\n",
            "49997    0\n",
            "49998    0\n",
            "49999    0\n",
            "Name: Class, Length: 49999, dtype: int64\n"
          ]
        }
      ]
    },
    {
      "cell_type": "markdown",
      "source": [
        "Decision tree"
      ],
      "metadata": {
        "id": "QPMm7JZ01JVf"
      }
    },
    {
      "cell_type": "code",
      "source": [
        "clf_model = DecisionTreeClassifier()\n",
        "clf_model.fit(X_train,y_train)\n",
        "# tree.plot_tree(clf)\n",
        "y_pred_dt = clf_model.predict(X_test)\n",
        "accuracy = accuracy_score(y_test, y_pred_dt)\n",
        "print('Decision Tree Classifier:')\n",
        "dtac = round(accuracy_score(y_test, y_pred_dt), 4)\n",
        "dtpc = round(precision_score(y_test, y_pred_dt), 4)\n",
        "dtrc= round(recall_score(y_test, y_pred_dt), 4)\n",
        "dtf= round(f1_score(y_test, y_pred_dt), 4)\n",
        "print('Accuracy:', dtac)\n",
        "print('Precision:', dtpc)\n",
        "print('Recall:', dtrc)\n",
        "print('F1-score:', dtf)\n",
        "print()"
      ],
      "metadata": {
        "colab": {
          "base_uri": "https://localhost:8080/"
        },
        "id": "h6EK6Yt91Ir2",
        "outputId": "174868ff-3b9a-4c13-b46c-64088aee0b25"
      },
      "execution_count": 57,
      "outputs": [
        {
          "output_type": "stream",
          "name": "stdout",
          "text": [
            "Decision Tree Classifier:\n",
            "Accuracy: 0.9991\n",
            "Precision: 0.8158\n",
            "Recall: 0.8378\n",
            "F1-score: 0.8267\n",
            "\n"
          ]
        }
      ]
    },
    {
      "cell_type": "markdown",
      "source": [
        "kNN"
      ],
      "metadata": {
        "id": "x69iHf4j1sdP"
      }
    },
    {
      "cell_type": "code",
      "source": [
        "clf_knn = KNeighborsClassifier()\n",
        "clf_knn.fit(X_train, y_train)\n",
        "y_pred_knn = clf_knn.predict(X_test)\n",
        "knnac =round(accuracy_score(y_test, y_pred_knn), 4)\n",
        "knnpc =round(precision_score(y_test, y_pred_knn), 4)\n",
        "knnrc=round(recall_score(y_test, y_pred_knn), 4)\n",
        "knnf=round(f1_score(y_test, y_pred_knn), 4)\n",
        "print('kNN Classifier:')\n",
        "print('Accuracy:', knnac)\n",
        "print('Precision:', knnpc)\n",
        "print('Recall:', knnrc)\n",
        "print('F1-score:', knnf)\n",
        "print()"
      ],
      "metadata": {
        "colab": {
          "base_uri": "https://localhost:8080/"
        },
        "id": "hbCbnwKA2XcT",
        "outputId": "cc7d0941-2e17-4b5c-cef7-7f52ff3a27b9"
      },
      "execution_count": 58,
      "outputs": [
        {
          "output_type": "stream",
          "name": "stdout",
          "text": [
            "kNN Classifier:\n",
            "Accuracy: 0.9991\n",
            "Precision: 0.871\n",
            "Recall: 0.7297\n",
            "F1-score: 0.7941\n",
            "\n"
          ]
        }
      ]
    },
    {
      "cell_type": "markdown",
      "source": [
        " Logistic Regression"
      ],
      "metadata": {
        "id": "MS966bCx1xNH"
      }
    },
    {
      "cell_type": "code",
      "source": [
        "clf_lr = LogisticRegression()\n",
        "clf_lr.fit(X_train, y_train)\n",
        "y_pred_lr = clf_lr.predict(X_test)\n",
        "lrac = round(accuracy_score(y_test, y_pred_lr), 4)\n",
        "lrpc = round(precision_score(y_test, y_pred_lr), 4)\n",
        "lrrc= round(recall_score(y_test, y_pred_lr), 4)\n",
        "lrf= round(f1_score(y_test, y_pred_lr), 4)\n",
        "print('Logistic Regression Classifier:')\n",
        "print('Accuracy:', lrac)\n",
        "print('Precision:', lrpc)\n",
        "print('Recall:', lrrc)\n",
        "print('F1-score:', lrf)\n",
        "print()"
      ],
      "metadata": {
        "colab": {
          "base_uri": "https://localhost:8080/"
        },
        "id": "VaBsgAby29Se",
        "outputId": "219ad45c-12f6-4f3a-ea18-3d0c7cfa1404"
      },
      "execution_count": 59,
      "outputs": [
        {
          "output_type": "stream",
          "name": "stdout",
          "text": [
            "Logistic Regression Classifier:\n",
            "Accuracy: 0.9983\n",
            "Precision: 0.62\n",
            "Recall: 0.8378\n",
            "F1-score: 0.7126\n",
            "\n"
          ]
        },
        {
          "output_type": "stream",
          "name": "stderr",
          "text": [
            "/usr/local/lib/python3.9/dist-packages/sklearn/linear_model/_logistic.py:458: ConvergenceWarning: lbfgs failed to converge (status=1):\n",
            "STOP: TOTAL NO. of ITERATIONS REACHED LIMIT.\n",
            "\n",
            "Increase the number of iterations (max_iter) or scale the data as shown in:\n",
            "    https://scikit-learn.org/stable/modules/preprocessing.html\n",
            "Please also refer to the documentation for alternative solver options:\n",
            "    https://scikit-learn.org/stable/modules/linear_model.html#logistic-regression\n",
            "  n_iter_i = _check_optimize_result(\n"
          ]
        }
      ]
    },
    {
      "cell_type": "markdown",
      "source": [
        "SVM Polynomial Kernel"
      ],
      "metadata": {
        "id": "45LyJUl-12An"
      }
    },
    {
      "cell_type": "code",
      "source": [
        "clf = svm.SVC(kernel='poly', degree=3)\n",
        "#Train the model using the training sets\n",
        "clf.fit(X_train, y_train)\n",
        "#Predict the response for test dataset\n",
        "y_pred = clf.predict(X_test)\n",
        "pkac = round(accuracy_score(y_test, y_pred), 4)\n",
        "pkpc = round(precision_score(y_test, y_pred), 4)\n",
        "pkrc= round(recall_score(y_test, y_pred), 4)\n",
        "pkf= round(f1_score(y_test, y_pred), 4)\n",
        "print (\"Accuracy : \", pkac) \n",
        "print (\"Precision : \", pkpc) \n",
        "print (\"Recall score : \", pkrc) \n",
        "print (\"F1 score : \", pkf)"
      ],
      "metadata": {
        "colab": {
          "base_uri": "https://localhost:8080/"
        },
        "id": "8kElEPOT3HFv",
        "outputId": "10154f2a-1169-469d-f6ed-6714c5567d59"
      },
      "execution_count": 60,
      "outputs": [
        {
          "output_type": "stream",
          "name": "stdout",
          "text": [
            "Accuracy :  0.9977\n",
            "Precision :  1.0\n",
            "Recall score :  0.0811\n",
            "F1 score :  0.15\n"
          ]
        }
      ]
    },
    {
      "cell_type": "markdown",
      "source": [
        "SVM Radial Basis Function Kernel"
      ],
      "metadata": {
        "id": "qsw-shDL12iX"
      }
    },
    {
      "cell_type": "code",
      "source": [
        "#Create a svm Classifier\n",
        "clf = svm.SVC(kernel='rbf')\n",
        "#Train the model using the training sets\n",
        "clf.fit(X_train, y_train)\n",
        "#Predict the response for test dataset\n",
        "y_pred = clf.predict(X_test)\n",
        "rbfac = round(accuracy_score(y_test, y_pred), 4)\n",
        "rbfpc = round(precision_score(y_test, y_pred), 4)\n",
        "rbfrc= round(recall_score(y_test, y_pred), 4)\n",
        "rbff= round(f1_score(y_test, y_pred), 4)\n",
        "print (\"Accuracy : \", rbfac) \n",
        "print (\"Precision : \", rbfpc) \n",
        "print (\"Recall score : \", rbfrc) \n",
        "print (\"F1 score : \", rbff)"
      ],
      "metadata": {
        "colab": {
          "base_uri": "https://localhost:8080/"
        },
        "id": "mwyLPNFa6IIw",
        "outputId": "e0c4da9d-19cc-49c6-e362-76babceadc59"
      },
      "execution_count": 63,
      "outputs": [
        {
          "output_type": "stream",
          "name": "stdout",
          "text": [
            "Accuracy :  0.9979\n",
            "Precision :  0.6154\n",
            "Recall score :  0.4324\n",
            "F1 score :  0.5079\n"
          ]
        }
      ]
    },
    {
      "cell_type": "markdown",
      "source": [
        "SVM Sigmoid Kernel"
      ],
      "metadata": {
        "id": "EzMAFNlD17Ru"
      }
    },
    {
      "cell_type": "code",
      "source": [
        "# Create a svm Classifier\n",
        "clf = svm.SVC(kernel='sigmoid')\n",
        "#Train the model using the training sets\n",
        "clf.fit(X_train, y_train)\n",
        "#Predict the response for test dataset\n",
        "y_pred = clf.predict(X_test)\n",
        "skac = round(accuracy_score(y_test, y_pred), 4)\n",
        "skpc = round(precision_score(y_test, y_pred), 4)\n",
        "skrc= round(recall_score(y_test, y_pred), 4)\n",
        "skf= round(f1_score(y_test, y_pred), 4)\n",
        "print (\"Accuracy : \", skac) \n",
        "print (\"Precision : \", skpc) \n",
        "print (\"Recall score : \", skrc) \n",
        "print (\"F1 score : \", skf)"
      ],
      "metadata": {
        "colab": {
          "base_uri": "https://localhost:8080/"
        },
        "id": "cRpff4OR6ON4",
        "outputId": "eda79099-2086-4c02-de12-1f8bfb48c91e"
      },
      "execution_count": 62,
      "outputs": [
        {
          "output_type": "stream",
          "name": "stdout",
          "text": [
            "Accuracy :  0.9975\n",
            "Precision :  0.5\n",
            "Recall score :  0.1081\n",
            "F1 score :  0.1778\n"
          ]
        }
      ]
    },
    {
      "cell_type": "code",
      "source": [
        "from prettytable import PrettyTable\n",
        "table = PrettyTable()\n",
        "table.field_names = [\"Classification algorithm\", \"Accuracy\", \"Precision\", \"Recall\", \"F1-score\"]\n",
        "table.add_row([\"Decision Tree\", dtac, dtpc, dtrc, dtf])\n",
        "table.add_row([\"kNN\", knnac, knnpc, knnrc, knnf])\n",
        "table.add_row([\"Logistic regression\", lrac, lrpc, lrrc, lrf])\n",
        "table.add_row([\"Polynomial Kernel\", pkac, pkpc, pkrc, pkf])\n",
        "table.add_row([\"Radial Basis Function Kernel\", rbfac, rbfpc, rbfrc, rbff])\n",
        "table.add_row([\"Sigmoid Kernel\", skac, skpc, skrc, skf])\n",
        "print(table)"
      ],
      "metadata": {
        "colab": {
          "base_uri": "https://localhost:8080/"
        },
        "id": "zeFU6PQA9oP4",
        "outputId": "ecba7bb0-f705-4956-fe9e-b67be1cd6fa2"
      },
      "execution_count": 64,
      "outputs": [
        {
          "output_type": "stream",
          "name": "stdout",
          "text": [
            "+------------------------------+----------+-----------+--------+----------+\n",
            "|   Classification algorithm   | Accuracy | Precision | Recall | F1-score |\n",
            "+------------------------------+----------+-----------+--------+----------+\n",
            "|        Decision Tree         |  0.9991  |   0.8158  | 0.8378 |  0.8267  |\n",
            "|             kNN              |  0.9991  |   0.871   | 0.7297 |  0.7941  |\n",
            "|     Logistic regression      |  0.9983  |    0.62   | 0.8378 |  0.7126  |\n",
            "|      Polynomial Kernel       |  0.9977  |    1.0    | 0.0811 |   0.15   |\n",
            "| Radial Basis Function Kernel |  0.9979  |   0.6154  | 0.4324 |  0.5079  |\n",
            "|        Sigmoid Kernel        |  0.9975  |    0.5    | 0.1081 |  0.1778  |\n",
            "+------------------------------+----------+-----------+--------+----------+\n"
          ]
        }
      ]
    },
    {
      "cell_type": "markdown",
      "source": [
        "#Finally,\n",
        "Save a copy in your Github. Remember renaming the notebook."
      ],
      "metadata": {
        "id": "Ok7RGkea_b7n"
      }
    }
  ]
}